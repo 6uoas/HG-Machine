{
  "cells": [
    {
      "cell_type": "markdown",
      "metadata": {
        "id": "view-in-github",
        "colab_type": "text"
      },
      "source": [
        "<a href=\"https://colab.research.google.com/github/uoahy-6uoas/HG-Machine/blob/main/kaggle_titanic.ipynb\" target=\"_parent\"><img src=\"https://colab.research.google.com/assets/colab-badge.svg\" alt=\"Open In Colab\"/></a>"
      ]
    },
    {
      "cell_type": "code",
      "source": [
        "#무지성 타이타닉 근데이제 hgb를 곁들인\n",
        "import pandas as pd\n",
        "import numpy as np\n",
        "import matplotlib.pyplot as plt\n",
        "from sklearn.model_selection import train_test_split\n",
        "train_df = pd.read_csv(\"/content/train.csv\")\n",
        "test_df = pd.read_csv(\"/content/test.csv\")\n",
        "submission = pd.read_csv(\"/content/gender_submission.csv\")\n",
        "\n",
        "#HistGradientBoostingClassifier\n",
        "data = train_df[['Age','SibSp','Parch','Fare']].to_numpy()\n",
        "target = train_df['Survived'].to_numpy()\n",
        "\n",
        "from sklearn.ensemble import HistGradientBoostingClassifier\n",
        "from sklearn.model_selection import cross_validate\n",
        "hgb = HistGradientBoostingClassifier()\n",
        "train_input, test_input, train_target, test_target = train_test_split(data, target, test_size=0.2)\n",
        "scores = cross_validate(hgb,train_input, train_target,return_train_score=True)\n",
        "\n",
        "#feature_importances_\n",
        "from sklearn.inspection import permutation_importance\n",
        "hgb.fit(train_input,train_target)\n",
        "result = permutation_importance(hgb,train_input,train_target,n_repeats=20,n_jobs=-1)\n",
        "\n",
        "test_data = test_df[['Age','SibSp','Parch','Fare']].to_numpy()\n",
        "tmp = hgb.predict(test_data)\n",
        "submission['Survived']=tmp\n",
        "submission.to_csv('kaggle_titanic.csv',index=False)"
      ],
      "metadata": {
        "id": "4M8DDaQOgk3N"
      },
      "id": "4M8DDaQOgk3N",
      "execution_count": 2,
      "outputs": []
    },
    {
      "cell_type": "markdown",
      "source": [
        "0.6점ㅋㅋㅋ"
      ],
      "metadata": {
        "id": "Xdc0-qNLhOft"
      },
      "id": "Xdc0-qNLhOft"
    }
  ],
  "metadata": {
    "kernelspec": {
      "display_name": "Python 3",
      "language": "python",
      "name": "python3"
    },
    "language_info": {
      "codemirror_mode": {
        "name": "ipython",
        "version": 3
      },
      "file_extension": ".py",
      "mimetype": "text/x-python",
      "name": "python",
      "nbconvert_exporter": "python",
      "pygments_lexer": "ipython3",
      "version": "3.8.8"
    },
    "colab": {
      "provenance": [],
      "include_colab_link": true
    }
  },
  "nbformat": 4,
  "nbformat_minor": 5
}