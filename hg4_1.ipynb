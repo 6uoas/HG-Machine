{
  "nbformat": 4,
  "nbformat_minor": 0,
  "metadata": {
    "colab": {
      "provenance": [],
      "include_colab_link": true
    },
    "kernelspec": {
      "name": "python3",
      "display_name": "Python 3"
    },
    "language_info": {
      "name": "python"
    }
  },
  "cells": [
    {
      "cell_type": "markdown",
      "metadata": {
        "id": "view-in-github",
        "colab_type": "text"
      },
      "source": [
        "<a href=\"https://colab.research.google.com/github/uoahy-6uoas/HG-Machine/blob/4-1-edit/hg4_1.ipynb\" target=\"_parent\"><img src=\"https://colab.research.google.com/assets/colab-badge.svg\" alt=\"Open In Colab\"/></a>"
      ]
    },
    {
      "cell_type": "markdown",
      "source": [
        "**로지스틱 회귀**\n",
        "> **로지스틱 회귀**는 수학을 사용하여 두 데이터 요인 간의 관계를 찾는 데이터 분석 기법 *AWS*\n",
        "\n"
      ],
      "metadata": {
        "id": "gf03qQE7xo07"
      }
    },
    {
      "cell_type": "code",
      "source": [
        "import pandas as pd\n",
        "\n",
        "fish = pd.read_csv('https://bit.ly/fish_csv_data')\n",
        "fish.head()"
      ],
      "metadata": {
        "id": "HsnXBhUNxlV-",
        "outputId": "66e24c54-6c1d-4400-c0d6-f521e8495b2c",
        "colab": {
          "base_uri": "https://localhost:8080/",
          "height": 206
        }
      },
      "execution_count": 1,
      "outputs": [
        {
          "output_type": "execute_result",
          "data": {
            "text/plain": [
              "  Species  Weight  Length  Diagonal   Height   Width\n",
              "0   Bream   242.0    25.4      30.0  11.5200  4.0200\n",
              "1   Bream   290.0    26.3      31.2  12.4800  4.3056\n",
              "2   Bream   340.0    26.5      31.1  12.3778  4.6961\n",
              "3   Bream   363.0    29.0      33.5  12.7300  4.4555\n",
              "4   Bream   430.0    29.0      34.0  12.4440  5.1340"
            ],
            "text/html": [
              "\n",
              "  <div id=\"df-ef6983bc-983d-44f2-86d3-122a7d9a7892\" class=\"colab-df-container\">\n",
              "    <div>\n",
              "<style scoped>\n",
              "    .dataframe tbody tr th:only-of-type {\n",
              "        vertical-align: middle;\n",
              "    }\n",
              "\n",
              "    .dataframe tbody tr th {\n",
              "        vertical-align: top;\n",
              "    }\n",
              "\n",
              "    .dataframe thead th {\n",
              "        text-align: right;\n",
              "    }\n",
              "</style>\n",
              "<table border=\"1\" class=\"dataframe\">\n",
              "  <thead>\n",
              "    <tr style=\"text-align: right;\">\n",
              "      <th></th>\n",
              "      <th>Species</th>\n",
              "      <th>Weight</th>\n",
              "      <th>Length</th>\n",
              "      <th>Diagonal</th>\n",
              "      <th>Height</th>\n",
              "      <th>Width</th>\n",
              "    </tr>\n",
              "  </thead>\n",
              "  <tbody>\n",
              "    <tr>\n",
              "      <th>0</th>\n",
              "      <td>Bream</td>\n",
              "      <td>242.0</td>\n",
              "      <td>25.4</td>\n",
              "      <td>30.0</td>\n",
              "      <td>11.5200</td>\n",
              "      <td>4.0200</td>\n",
              "    </tr>\n",
              "    <tr>\n",
              "      <th>1</th>\n",
              "      <td>Bream</td>\n",
              "      <td>290.0</td>\n",
              "      <td>26.3</td>\n",
              "      <td>31.2</td>\n",
              "      <td>12.4800</td>\n",
              "      <td>4.3056</td>\n",
              "    </tr>\n",
              "    <tr>\n",
              "      <th>2</th>\n",
              "      <td>Bream</td>\n",
              "      <td>340.0</td>\n",
              "      <td>26.5</td>\n",
              "      <td>31.1</td>\n",
              "      <td>12.3778</td>\n",
              "      <td>4.6961</td>\n",
              "    </tr>\n",
              "    <tr>\n",
              "      <th>3</th>\n",
              "      <td>Bream</td>\n",
              "      <td>363.0</td>\n",
              "      <td>29.0</td>\n",
              "      <td>33.5</td>\n",
              "      <td>12.7300</td>\n",
              "      <td>4.4555</td>\n",
              "    </tr>\n",
              "    <tr>\n",
              "      <th>4</th>\n",
              "      <td>Bream</td>\n",
              "      <td>430.0</td>\n",
              "      <td>29.0</td>\n",
              "      <td>34.0</td>\n",
              "      <td>12.4440</td>\n",
              "      <td>5.1340</td>\n",
              "    </tr>\n",
              "  </tbody>\n",
              "</table>\n",
              "</div>\n",
              "    <div class=\"colab-df-buttons\">\n",
              "\n",
              "  <div class=\"colab-df-container\">\n",
              "    <button class=\"colab-df-convert\" onclick=\"convertToInteractive('df-ef6983bc-983d-44f2-86d3-122a7d9a7892')\"\n",
              "            title=\"Convert this dataframe to an interactive table.\"\n",
              "            style=\"display:none;\">\n",
              "\n",
              "  <svg xmlns=\"http://www.w3.org/2000/svg\" height=\"24px\" viewBox=\"0 -960 960 960\">\n",
              "    <path d=\"M120-120v-720h720v720H120Zm60-500h600v-160H180v160Zm220 220h160v-160H400v160Zm0 220h160v-160H400v160ZM180-400h160v-160H180v160Zm440 0h160v-160H620v160ZM180-180h160v-160H180v160Zm440 0h160v-160H620v160Z\"/>\n",
              "  </svg>\n",
              "    </button>\n",
              "\n",
              "  <style>\n",
              "    .colab-df-container {\n",
              "      display:flex;\n",
              "      gap: 12px;\n",
              "    }\n",
              "\n",
              "    .colab-df-convert {\n",
              "      background-color: #E8F0FE;\n",
              "      border: none;\n",
              "      border-radius: 50%;\n",
              "      cursor: pointer;\n",
              "      display: none;\n",
              "      fill: #1967D2;\n",
              "      height: 32px;\n",
              "      padding: 0 0 0 0;\n",
              "      width: 32px;\n",
              "    }\n",
              "\n",
              "    .colab-df-convert:hover {\n",
              "      background-color: #E2EBFA;\n",
              "      box-shadow: 0px 1px 2px rgba(60, 64, 67, 0.3), 0px 1px 3px 1px rgba(60, 64, 67, 0.15);\n",
              "      fill: #174EA6;\n",
              "    }\n",
              "\n",
              "    .colab-df-buttons div {\n",
              "      margin-bottom: 4px;\n",
              "    }\n",
              "\n",
              "    [theme=dark] .colab-df-convert {\n",
              "      background-color: #3B4455;\n",
              "      fill: #D2E3FC;\n",
              "    }\n",
              "\n",
              "    [theme=dark] .colab-df-convert:hover {\n",
              "      background-color: #434B5C;\n",
              "      box-shadow: 0px 1px 3px 1px rgba(0, 0, 0, 0.15);\n",
              "      filter: drop-shadow(0px 1px 2px rgba(0, 0, 0, 0.3));\n",
              "      fill: #FFFFFF;\n",
              "    }\n",
              "  </style>\n",
              "\n",
              "    <script>\n",
              "      const buttonEl =\n",
              "        document.querySelector('#df-ef6983bc-983d-44f2-86d3-122a7d9a7892 button.colab-df-convert');\n",
              "      buttonEl.style.display =\n",
              "        google.colab.kernel.accessAllowed ? 'block' : 'none';\n",
              "\n",
              "      async function convertToInteractive(key) {\n",
              "        const element = document.querySelector('#df-ef6983bc-983d-44f2-86d3-122a7d9a7892');\n",
              "        const dataTable =\n",
              "          await google.colab.kernel.invokeFunction('convertToInteractive',\n",
              "                                                    [key], {});\n",
              "        if (!dataTable) return;\n",
              "\n",
              "        const docLinkHtml = 'Like what you see? Visit the ' +\n",
              "          '<a target=\"_blank\" href=https://colab.research.google.com/notebooks/data_table.ipynb>data table notebook</a>'\n",
              "          + ' to learn more about interactive tables.';\n",
              "        element.innerHTML = '';\n",
              "        dataTable['output_type'] = 'display_data';\n",
              "        await google.colab.output.renderOutput(dataTable, element);\n",
              "        const docLink = document.createElement('div');\n",
              "        docLink.innerHTML = docLinkHtml;\n",
              "        element.appendChild(docLink);\n",
              "      }\n",
              "    </script>\n",
              "  </div>\n",
              "\n",
              "\n",
              "<div id=\"df-18a1492a-f85c-42bb-84bb-8d349c5501da\">\n",
              "  <button class=\"colab-df-quickchart\" onclick=\"quickchart('df-18a1492a-f85c-42bb-84bb-8d349c5501da')\"\n",
              "            title=\"Suggest charts.\"\n",
              "            style=\"display:none;\">\n",
              "\n",
              "<svg xmlns=\"http://www.w3.org/2000/svg\" height=\"24px\"viewBox=\"0 0 24 24\"\n",
              "     width=\"24px\">\n",
              "    <g>\n",
              "        <path d=\"M19 3H5c-1.1 0-2 .9-2 2v14c0 1.1.9 2 2 2h14c1.1 0 2-.9 2-2V5c0-1.1-.9-2-2-2zM9 17H7v-7h2v7zm4 0h-2V7h2v10zm4 0h-2v-4h2v4z\"/>\n",
              "    </g>\n",
              "</svg>\n",
              "  </button>\n",
              "\n",
              "<style>\n",
              "  .colab-df-quickchart {\n",
              "      --bg-color: #E8F0FE;\n",
              "      --fill-color: #1967D2;\n",
              "      --hover-bg-color: #E2EBFA;\n",
              "      --hover-fill-color: #174EA6;\n",
              "      --disabled-fill-color: #AAA;\n",
              "      --disabled-bg-color: #DDD;\n",
              "  }\n",
              "\n",
              "  [theme=dark] .colab-df-quickchart {\n",
              "      --bg-color: #3B4455;\n",
              "      --fill-color: #D2E3FC;\n",
              "      --hover-bg-color: #434B5C;\n",
              "      --hover-fill-color: #FFFFFF;\n",
              "      --disabled-bg-color: #3B4455;\n",
              "      --disabled-fill-color: #666;\n",
              "  }\n",
              "\n",
              "  .colab-df-quickchart {\n",
              "    background-color: var(--bg-color);\n",
              "    border: none;\n",
              "    border-radius: 50%;\n",
              "    cursor: pointer;\n",
              "    display: none;\n",
              "    fill: var(--fill-color);\n",
              "    height: 32px;\n",
              "    padding: 0;\n",
              "    width: 32px;\n",
              "  }\n",
              "\n",
              "  .colab-df-quickchart:hover {\n",
              "    background-color: var(--hover-bg-color);\n",
              "    box-shadow: 0 1px 2px rgba(60, 64, 67, 0.3), 0 1px 3px 1px rgba(60, 64, 67, 0.15);\n",
              "    fill: var(--button-hover-fill-color);\n",
              "  }\n",
              "\n",
              "  .colab-df-quickchart-complete:disabled,\n",
              "  .colab-df-quickchart-complete:disabled:hover {\n",
              "    background-color: var(--disabled-bg-color);\n",
              "    fill: var(--disabled-fill-color);\n",
              "    box-shadow: none;\n",
              "  }\n",
              "\n",
              "  .colab-df-spinner {\n",
              "    border: 2px solid var(--fill-color);\n",
              "    border-color: transparent;\n",
              "    border-bottom-color: var(--fill-color);\n",
              "    animation:\n",
              "      spin 1s steps(1) infinite;\n",
              "  }\n",
              "\n",
              "  @keyframes spin {\n",
              "    0% {\n",
              "      border-color: transparent;\n",
              "      border-bottom-color: var(--fill-color);\n",
              "      border-left-color: var(--fill-color);\n",
              "    }\n",
              "    20% {\n",
              "      border-color: transparent;\n",
              "      border-left-color: var(--fill-color);\n",
              "      border-top-color: var(--fill-color);\n",
              "    }\n",
              "    30% {\n",
              "      border-color: transparent;\n",
              "      border-left-color: var(--fill-color);\n",
              "      border-top-color: var(--fill-color);\n",
              "      border-right-color: var(--fill-color);\n",
              "    }\n",
              "    40% {\n",
              "      border-color: transparent;\n",
              "      border-right-color: var(--fill-color);\n",
              "      border-top-color: var(--fill-color);\n",
              "    }\n",
              "    60% {\n",
              "      border-color: transparent;\n",
              "      border-right-color: var(--fill-color);\n",
              "    }\n",
              "    80% {\n",
              "      border-color: transparent;\n",
              "      border-right-color: var(--fill-color);\n",
              "      border-bottom-color: var(--fill-color);\n",
              "    }\n",
              "    90% {\n",
              "      border-color: transparent;\n",
              "      border-bottom-color: var(--fill-color);\n",
              "    }\n",
              "  }\n",
              "</style>\n",
              "\n",
              "  <script>\n",
              "    async function quickchart(key) {\n",
              "      const quickchartButtonEl =\n",
              "        document.querySelector('#' + key + ' button');\n",
              "      quickchartButtonEl.disabled = true;  // To prevent multiple clicks.\n",
              "      quickchartButtonEl.classList.add('colab-df-spinner');\n",
              "      try {\n",
              "        const charts = await google.colab.kernel.invokeFunction(\n",
              "            'suggestCharts', [key], {});\n",
              "      } catch (error) {\n",
              "        console.error('Error during call to suggestCharts:', error);\n",
              "      }\n",
              "      quickchartButtonEl.classList.remove('colab-df-spinner');\n",
              "      quickchartButtonEl.classList.add('colab-df-quickchart-complete');\n",
              "    }\n",
              "    (() => {\n",
              "      let quickchartButtonEl =\n",
              "        document.querySelector('#df-18a1492a-f85c-42bb-84bb-8d349c5501da button');\n",
              "      quickchartButtonEl.style.display =\n",
              "        google.colab.kernel.accessAllowed ? 'block' : 'none';\n",
              "    })();\n",
              "  </script>\n",
              "</div>\n",
              "    </div>\n",
              "  </div>\n"
            ]
          },
          "metadata": {},
          "execution_count": 1
        }
      ]
    },
    {
      "cell_type": "code",
      "source": [
        "pd.unique(fish['Species']) #fish는 데이터프레임 타입"
      ],
      "metadata": {
        "id": "IZkYXo2IzQEe",
        "outputId": "06ccaaf9-d07b-4de0-8d13-d7be2faf7f6a",
        "colab": {
          "base_uri": "https://localhost:8080/"
        }
      },
      "execution_count": 2,
      "outputs": [
        {
          "output_type": "execute_result",
          "data": {
            "text/plain": [
              "array(['Bream', 'Roach', 'Whitefish', 'Parkki', 'Perch', 'Pike', 'Smelt'],\n",
              "      dtype=object)"
            ]
          },
          "metadata": {},
          "execution_count": 2
        }
      ]
    },
    {
      "cell_type": "code",
      "source": [
        "# kn을 활용해 타깃의 species를 확률로 나타내기 위해 나머지 열을 input으로\n",
        "fish_input = fish[['Weight','Length','Diagonal','Height','Width']].to_numpy() #ndarray형식\n",
        "fish_target = fish['Species'].to_numpy() #Species가 2차원 배열이 되지 않게 주의!"
      ],
      "metadata": {
        "id": "S2mpKsmEzqyK"
      },
      "execution_count": 3,
      "outputs": []
    },
    {
      "cell_type": "code",
      "source": [
        "#갈라쇼\n",
        "from sklearn.model_selection import train_test_split\n",
        "train_input, test_input, train_target, test_target = train_test_split(fish_input, fish_target)"
      ],
      "metadata": {
        "id": "uW-9_ViKzxs5"
      },
      "execution_count": 4,
      "outputs": []
    },
    {
      "cell_type": "code",
      "source": [
        "#전처리 근데 이제 스케일링\n",
        "from sklearn.preprocessing import StandardScaler\n",
        "ss = StandardScaler()\n",
        "ss.fit(train_input)\n",
        "train_scaled = ss.transform(train_input)\n",
        "test_scaled = ss.transform(test_input)"
      ],
      "metadata": {
        "id": "TzZzB9St0D5p"
      },
      "execution_count": 5,
      "outputs": []
    },
    {
      "cell_type": "code",
      "source": [
        "#kn\n",
        "from sklearn.neighbors import KNeighborsClassifier\n",
        "kn = KNeighborsClassifier()\n",
        "kn.fit(train_scaled, train_target)\n",
        "kn.score(train_scaled , train_target), kn.score(test_scaled, test_target)"
      ],
      "metadata": {
        "id": "b34Qip5_1ojM",
        "outputId": "1d3e9ac8-67da-48de-be32-3c07249a5062",
        "colab": {
          "base_uri": "https://localhost:8080/"
        }
      },
      "execution_count": 6,
      "outputs": [
        {
          "output_type": "execute_result",
          "data": {
            "text/plain": [
              "(0.8571428571428571, 0.75)"
            ]
          },
          "metadata": {},
          "execution_count": 6
        }
      ]
    },
    {
      "cell_type": "markdown",
      "source": [
        "> **다중분류**(*multi-class classification*)란 target에 2개 이상의 클래스가 포함된 문제"
      ],
      "metadata": {
        "id": "8eO3yVeh3HGJ"
      }
    },
    {
      "cell_type": "code",
      "source": [
        "#과소적합이지만 일단 넘겨..\n",
        "#sklearn에서는 자동으로 알파벳순으로 바뀜\n",
        "kn.classes_"
      ],
      "metadata": {
        "id": "Qtda4IU82Nia",
        "outputId": "9c1000c8-3e6c-4279-ff77-e44ff95cf083",
        "colab": {
          "base_uri": "https://localhost:8080/"
        }
      },
      "execution_count": 7,
      "outputs": [
        {
          "output_type": "execute_result",
          "data": {
            "text/plain": [
              "array(['Bream', 'Parkki', 'Perch', 'Pike', 'Roach', 'Smelt', 'Whitefish'],\n",
              "      dtype=object)"
            ]
          },
          "metadata": {},
          "execution_count": 7
        }
      ]
    },
    {
      "cell_type": "code",
      "source": [
        "import numpy as np\n",
        "proba = kn.predict_proba(test_scaled[:10]) #처음 10개의 분류 확률을 araboza\n",
        "print(kn.classes_)\n",
        "print(np.round(proba, decimals=4)) #소수4번째까지\n",
        "print(kn.predict(test_scaled[:10])) #확률이 높은 클래스로 예측함을 볼 수 있음"
      ],
      "metadata": {
        "id": "0Uq7v1wk4bwq",
        "outputId": "8b07ad8b-bb49-4882-d1c5-ba98a6405d6a",
        "colab": {
          "base_uri": "https://localhost:8080/"
        }
      },
      "execution_count": 8,
      "outputs": [
        {
          "output_type": "stream",
          "name": "stdout",
          "text": [
            "['Bream' 'Parkki' 'Perch' 'Pike' 'Roach' 'Smelt' 'Whitefish']\n",
            "[[1.  0.  0.  0.  0.  0.  0. ]\n",
            " [1.  0.  0.  0.  0.  0.  0. ]\n",
            " [0.  0.  0.4 0.6 0.  0.  0. ]\n",
            " [0.6 0.4 0.  0.  0.  0.  0. ]\n",
            " [0.  0.  0.  0.  0.  1.  0. ]\n",
            " [0.  0.  0.  0.  0.  1.  0. ]\n",
            " [0.  0.  0.8 0.  0.  0.  0.2]\n",
            " [1.  0.  0.  0.  0.  0.  0. ]\n",
            " [0.  0.  0.8 0.  0.2 0.  0. ]\n",
            " [0.  0.  0.6 0.4 0.  0.  0. ]]\n",
            "['Bream' 'Bream' 'Pike' 'Bream' 'Smelt' 'Smelt' 'Perch' 'Bream' 'Perch'\n",
            " 'Perch']\n"
          ]
        }
      ]
    },
    {
      "cell_type": "code",
      "source": [
        "distances, indexes = kn.kneighbors(test_scaled[1:2]) #1번 인덱스가 왜 저런 확률로 나왔는지 확인해보자\n",
        "train_target[indexes] #1번 인덱스의 이웃\n",
        "# kneighbors()의 입력은 2차원배열, 아웃도 2차원배열"
      ],
      "metadata": {
        "id": "6cMMKcHM49fE",
        "outputId": "6c930fba-9f48-49d7-d1c1-f8d2f2f16480",
        "colab": {
          "base_uri": "https://localhost:8080/"
        }
      },
      "execution_count": 9,
      "outputs": [
        {
          "output_type": "execute_result",
          "data": {
            "text/plain": [
              "array([['Bream', 'Bream', 'Bream', 'Bream', 'Bream']], dtype=object)"
            ]
          },
          "metadata": {},
          "execution_count": 9
        }
      ]
    },
    {
      "cell_type": "markdown",
      "source": [
        "확률을 추출하기 위해 kn을 사용했지만, k의 개수가 5개라 확률로 표현할 수 있는 범위가 제한적임 따라서 '**로지스틱 회귀**' 쓸 거\n",
        "<br>\n",
        "<br>\n",
        "$ z = a \\times (weight) + b \\times (length) + c \\times (diagonal) + d \\times (height) + e \\times (width) + f $ <br>\n",
        "$ \\phi = {1 \\over 1+e^{-z}}$ : *sigmoid function* <br>\n",
        "선형회귀와 마찬가지로 각 species마다의 파라미터들(a~f)을 학습함, phi값 0.5를 기준으로 긴지 아닌지 판단(0.5일때 sklearn은 아닌거로 판단)"
      ],
      "metadata": {
        "id": "djnL0W4r70xQ"
      }
    },
    {
      "cell_type": "markdown",
      "source": [
        "로지스틱 회귀는 반복을 통해 학습시킴 <br>\n",
        "LogisticRegression클래스의 max_iter매개변수에서 반복값 변경가능(defalut:100회)<br>\n",
        "<br>\n",
        "ridge회귀와 같이 계수의 n제곱을 규제함 (L2규제, C(alpha와 비슷)가 커지면 규제는 작아짐)<br>\n"
      ],
      "metadata": {
        "id": "RPgmBnuVBCM4"
      }
    },
    {
      "cell_type": "code",
      "source": [
        "#이제 로지스틱 다중분류 해보자\n",
        "from sklearn.linear_model import LogisticRegression #리니어 모델이네??\n",
        "lr = LogisticRegression(C=20,max_iter=1000)\n",
        "lr.fit(train_scaled, train_target)\n",
        "lr.score(train_scaled, train_target), lr.score(test_scaled, test_target)"
      ],
      "metadata": {
        "id": "fH3E_cEw7f-Y",
        "outputId": "9afc2198-a306-4585-d339-1a6c87200278",
        "colab": {
          "base_uri": "https://localhost:8080/"
        }
      },
      "execution_count": 10,
      "outputs": [
        {
          "output_type": "execute_result",
          "data": {
            "text/plain": [
              "(0.9495798319327731, 0.875)"
            ]
          },
          "metadata": {},
          "execution_count": 10
        }
      ]
    },
    {
      "cell_type": "code",
      "source": [
        "#또 과소적합이지만 일단 넘어가..지금 중요한 건 로지스틱 확률 확인해 보는 것!\n",
        "proba = lr.predict_proba(test_scaled[:10])\n",
        "print(lr.classes_)\n",
        "print(np.round(proba, decimals=3))"
      ],
      "metadata": {
        "id": "B-y7XXm3C2Zm",
        "outputId": "15aeab13-6e24-44cf-cc01-f8e094d6fbec",
        "colab": {
          "base_uri": "https://localhost:8080/"
        }
      },
      "execution_count": 11,
      "outputs": [
        {
          "output_type": "stream",
          "name": "stdout",
          "text": [
            "['Bream' 'Parkki' 'Perch' 'Pike' 'Roach' 'Smelt' 'Whitefish']\n",
            "[[0.982 0.005 0.    0.    0.    0.    0.013]\n",
            " [0.999 0.    0.    0.    0.    0.    0.001]\n",
            " [0.    0.    0.082 0.852 0.06  0.    0.006]\n",
            " [0.689 0.247 0.    0.    0.026 0.    0.038]\n",
            " [0.    0.003 0.049 0.    0.002 0.947 0.   ]\n",
            " [0.    0.002 0.055 0.    0.001 0.943 0.   ]\n",
            " [0.    0.    0.909 0.004 0.066 0.    0.021]\n",
            " [0.999 0.    0.    0.    0.    0.    0.001]\n",
            " [0.    0.065 0.446 0.001 0.413 0.045 0.03 ]\n",
            " [0.    0.    0.031 0.904 0.049 0.01  0.005]]\n"
          ]
        }
      ]
    },
    {
      "cell_type": "code",
      "source": [
        "#(a~e), f shape확인\n",
        "lr.coef_.shape, lr.intercept_.shape # species 7개 마다 파라미터가 존재함을 알 수 있음"
      ],
      "metadata": {
        "id": "AdI4pnldDR-V",
        "outputId": "3491e3b6-637e-4617-bbd6-e7148623dd27",
        "colab": {
          "base_uri": "https://localhost:8080/"
        }
      },
      "execution_count": 12,
      "outputs": [
        {
          "output_type": "execute_result",
          "data": {
            "text/plain": [
              "((7, 5), (7,))"
            ]
          },
          "metadata": {},
          "execution_count": 12
        }
      ]
    },
    {
      "cell_type": "markdown",
      "source": [
        "따라서 로지스틱 회귀시 서로다른 파라미터 집합을 분류개수 만큼 만들어 하나씩 대입해 z값을 뽑아냄<br>\n",
        "그런데 확률이니 합이 1이 되어야 함 --> **소프트맥스**\n",
        "> The **softmax** function is a function that turns a vector of K real values into a vector of K real values that sum to 1. *DeepAI*\n",
        "\n",
        "*소프트맥스*<br>\n",
        "$e_{sum} = e^{z1} + e^{z2}+ ... $<br>\n",
        "$s1 = {e^{z1} \\over e_{sum}} ... $<br>\n",
        "proba 출력 = [[s1,s2, ... ]]<br>\n",
        "*sklearn은 자동으로 소프트맥스 계산해 줌.*"
      ],
      "metadata": {
        "id": "kIuVj0hiEZVL"
      }
    },
    {
      "cell_type": "code",
      "source": [
        "#z값 표시하기\n",
        "decision = lr.decision_function(test_scaled[:10])\n",
        "print(np.round(decision,decimals=3))\n",
        "print(type(decision))"
      ],
      "metadata": {
        "id": "vEWVzlk6EM3S",
        "outputId": "68ee55ca-b158-44bf-dacc-1351a6e8ed73",
        "colab": {
          "base_uri": "https://localhost:8080/"
        }
      },
      "execution_count": 13,
      "outputs": [
        {
          "output_type": "stream",
          "name": "stdout",
          "text": [
            "[[ 1.0146e+01  4.7770e+00 -3.8390e+00 -2.0180e+00  2.2800e-01 -1.5118e+01\n",
            "   5.8250e+00]\n",
            " [ 1.4622e+01  3.6490e+00 -4.3160e+00  1.3000e-01 -1.0690e+00 -2.0549e+01\n",
            "   7.5330e+00]\n",
            " [-4.3360e+00 -8.3310e+00  3.7140e+00  6.0520e+00  3.4000e+00 -1.5300e+00\n",
            "   1.0310e+00]\n",
            " [ 6.3670e+00  5.3380e+00 -3.3920e+00 -3.9200e+00  3.0920e+00 -1.0951e+01\n",
            "   3.4650e+00]\n",
            " [-1.0882e+01  1.6400e+00  4.5860e+00 -3.7550e+00  1.2950e+00  7.5530e+00\n",
            "  -4.3700e-01]\n",
            " [-1.2330e+01  2.1400e+00  5.6570e+00 -4.7560e+00  1.1870e+00  8.5030e+00\n",
            "  -4.0200e-01]\n",
            " [-3.3060e+00 -2.2370e+00  5.4960e+00  5.0000e-03  2.8750e+00 -4.5400e+00\n",
            "   1.7060e+00]\n",
            " [ 1.3168e+01  5.2210e+00 -5.4560e+00 -1.7280e+00  6.9000e-01 -1.8005e+01\n",
            "   6.1100e+00]\n",
            " [-5.8770e+00  1.2770e+00  3.1980e+00 -3.1280e+00  3.1220e+00  9.0600e-01\n",
            "   5.0200e-01]\n",
            " [-4.2700e+00 -6.3780e+00  1.9600e+00  5.3250e+00  2.4140e+00  8.5000e-01\n",
            "   9.9000e-02]]\n",
            "<class 'numpy.ndarray'>\n"
          ]
        }
      ]
    },
    {
      "cell_type": "code",
      "source": [
        "#scipy로 소프트맥스 표시하기\n",
        "from scipy.special import softmax\n",
        "proba = softmax(decision, axis=1)\n",
        "print(np.round(proba, decimals=3))"
      ],
      "metadata": {
        "id": "l0Yu0RnIGpp2",
        "outputId": "c98d8dc9-8cee-4139-96f5-a997294a0845",
        "colab": {
          "base_uri": "https://localhost:8080/"
        }
      },
      "execution_count": 14,
      "outputs": [
        {
          "output_type": "stream",
          "name": "stdout",
          "text": [
            "[[0.982 0.005 0.    0.    0.    0.    0.013]\n",
            " [0.999 0.    0.    0.    0.    0.    0.001]\n",
            " [0.    0.    0.082 0.852 0.06  0.    0.006]\n",
            " [0.689 0.247 0.    0.    0.026 0.    0.038]\n",
            " [0.    0.003 0.049 0.    0.002 0.947 0.   ]\n",
            " [0.    0.002 0.055 0.    0.001 0.943 0.   ]\n",
            " [0.    0.    0.909 0.004 0.066 0.    0.021]\n",
            " [0.999 0.    0.    0.    0.    0.    0.001]\n",
            " [0.    0.065 0.446 0.001 0.413 0.045 0.03 ]\n",
            " [0.    0.    0.031 0.904 0.049 0.01  0.005]]\n"
          ]
        }
      ]
    },
    {
      "cell_type": "markdown",
      "source": [
        "확인문제\n",
        "1. 2개보다 많은 클래스가 있는 분류문제를 다중분류라고 함\n",
        "2. 로지스틱 회귀가 이진 분류에서 확률을 출력하기 위해 사용하는 함수는 시그모이드 함수\n",
        "3. decision_function() 메서드의 출력(z)이 0일 때, 시그모이드 함수 값($\\phi$)은 ${1\\over2}=0.5$"
      ],
      "metadata": {
        "id": "RZMZSJiKHMFi"
      }
    }
  ]
}