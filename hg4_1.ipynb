{
  "nbformat": 4,
  "nbformat_minor": 0,
  "metadata": {
    "colab": {
      "provenance": [],
      "include_colab_link": true
    },
    "kernelspec": {
      "name": "python3",
      "display_name": "Python 3"
    },
    "language_info": {
      "name": "python"
    }
  },
  "cells": [
    {
      "cell_type": "markdown",
      "metadata": {
        "id": "view-in-github",
        "colab_type": "text"
      },
      "source": [
        "<a href=\"https://colab.research.google.com/github/uoahy-6uoas/HG-Machine/blob/main/hg4_1.ipynb\" target=\"_parent\"><img src=\"https://colab.research.google.com/assets/colab-badge.svg\" alt=\"Open In Colab\"/></a>"
      ]
    },
    {
      "cell_type": "markdown",
      "source": [
        "**로지스틱 회귀**\n",
        "> **로지스틱 회귀**는 수학을 사용하여 두 데이터 요인 간의 관계를 찾는 데이터 분석 기법 *AWS*\n",
        "\n"
      ],
      "metadata": {
        "id": "gf03qQE7xo07"
      }
    },
    {
      "cell_type": "code",
      "source": [
        "import pandas as pd\n",
        "\n",
        "fish = pd.read_csv('https://bit.ly/fish_csv_data')\n",
        "fish.head()"
      ],
      "metadata": {
        "id": "HsnXBhUNxlV-",
        "outputId": "58c068fb-14ec-4899-e7f0-4274b7324031",
        "colab": {
          "base_uri": "https://localhost:8080/",
          "height": 206
        }
      },
      "execution_count": null,
      "outputs": [
        {
          "output_type": "execute_result",
          "data": {
            "text/plain": [
              "  Species  Weight  Length  Diagonal   Height   Width\n",
              "0   Bream   242.0    25.4      30.0  11.5200  4.0200\n",
              "1   Bream   290.0    26.3      31.2  12.4800  4.3056\n",
              "2   Bream   340.0    26.5      31.1  12.3778  4.6961\n",
              "3   Bream   363.0    29.0      33.5  12.7300  4.4555\n",
              "4   Bream   430.0    29.0      34.0  12.4440  5.1340"
            ],
            "text/html": [
              "\n",
              "  <div id=\"df-3d52257e-1989-439f-a437-01d5520c414f\" class=\"colab-df-container\">\n",
              "    <div>\n",
              "<style scoped>\n",
              "    .dataframe tbody tr th:only-of-type {\n",
              "        vertical-align: middle;\n",
              "    }\n",
              "\n",
              "    .dataframe tbody tr th {\n",
              "        vertical-align: top;\n",
              "    }\n",
              "\n",
              "    .dataframe thead th {\n",
              "        text-align: right;\n",
              "    }\n",
              "</style>\n",
              "<table border=\"1\" class=\"dataframe\">\n",
              "  <thead>\n",
              "    <tr style=\"text-align: right;\">\n",
              "      <th></th>\n",
              "      <th>Species</th>\n",
              "      <th>Weight</th>\n",
              "      <th>Length</th>\n",
              "      <th>Diagonal</th>\n",
              "      <th>Height</th>\n",
              "      <th>Width</th>\n",
              "    </tr>\n",
              "  </thead>\n",
              "  <tbody>\n",
              "    <tr>\n",
              "      <th>0</th>\n",
              "      <td>Bream</td>\n",
              "      <td>242.0</td>\n",
              "      <td>25.4</td>\n",
              "      <td>30.0</td>\n",
              "      <td>11.5200</td>\n",
              "      <td>4.0200</td>\n",
              "    </tr>\n",
              "    <tr>\n",
              "      <th>1</th>\n",
              "      <td>Bream</td>\n",
              "      <td>290.0</td>\n",
              "      <td>26.3</td>\n",
              "      <td>31.2</td>\n",
              "      <td>12.4800</td>\n",
              "      <td>4.3056</td>\n",
              "    </tr>\n",
              "    <tr>\n",
              "      <th>2</th>\n",
              "      <td>Bream</td>\n",
              "      <td>340.0</td>\n",
              "      <td>26.5</td>\n",
              "      <td>31.1</td>\n",
              "      <td>12.3778</td>\n",
              "      <td>4.6961</td>\n",
              "    </tr>\n",
              "    <tr>\n",
              "      <th>3</th>\n",
              "      <td>Bream</td>\n",
              "      <td>363.0</td>\n",
              "      <td>29.0</td>\n",
              "      <td>33.5</td>\n",
              "      <td>12.7300</td>\n",
              "      <td>4.4555</td>\n",
              "    </tr>\n",
              "    <tr>\n",
              "      <th>4</th>\n",
              "      <td>Bream</td>\n",
              "      <td>430.0</td>\n",
              "      <td>29.0</td>\n",
              "      <td>34.0</td>\n",
              "      <td>12.4440</td>\n",
              "      <td>5.1340</td>\n",
              "    </tr>\n",
              "  </tbody>\n",
              "</table>\n",
              "</div>\n",
              "    <div class=\"colab-df-buttons\">\n",
              "\n",
              "  <div class=\"colab-df-container\">\n",
              "    <button class=\"colab-df-convert\" onclick=\"convertToInteractive('df-3d52257e-1989-439f-a437-01d5520c414f')\"\n",
              "            title=\"Convert this dataframe to an interactive table.\"\n",
              "            style=\"display:none;\">\n",
              "\n",
              "  <svg xmlns=\"http://www.w3.org/2000/svg\" height=\"24px\" viewBox=\"0 -960 960 960\">\n",
              "    <path d=\"M120-120v-720h720v720H120Zm60-500h600v-160H180v160Zm220 220h160v-160H400v160Zm0 220h160v-160H400v160ZM180-400h160v-160H180v160Zm440 0h160v-160H620v160ZM180-180h160v-160H180v160Zm440 0h160v-160H620v160Z\"/>\n",
              "  </svg>\n",
              "    </button>\n",
              "\n",
              "  <style>\n",
              "    .colab-df-container {\n",
              "      display:flex;\n",
              "      gap: 12px;\n",
              "    }\n",
              "\n",
              "    .colab-df-convert {\n",
              "      background-color: #E8F0FE;\n",
              "      border: none;\n",
              "      border-radius: 50%;\n",
              "      cursor: pointer;\n",
              "      display: none;\n",
              "      fill: #1967D2;\n",
              "      height: 32px;\n",
              "      padding: 0 0 0 0;\n",
              "      width: 32px;\n",
              "    }\n",
              "\n",
              "    .colab-df-convert:hover {\n",
              "      background-color: #E2EBFA;\n",
              "      box-shadow: 0px 1px 2px rgba(60, 64, 67, 0.3), 0px 1px 3px 1px rgba(60, 64, 67, 0.15);\n",
              "      fill: #174EA6;\n",
              "    }\n",
              "\n",
              "    .colab-df-buttons div {\n",
              "      margin-bottom: 4px;\n",
              "    }\n",
              "\n",
              "    [theme=dark] .colab-df-convert {\n",
              "      background-color: #3B4455;\n",
              "      fill: #D2E3FC;\n",
              "    }\n",
              "\n",
              "    [theme=dark] .colab-df-convert:hover {\n",
              "      background-color: #434B5C;\n",
              "      box-shadow: 0px 1px 3px 1px rgba(0, 0, 0, 0.15);\n",
              "      filter: drop-shadow(0px 1px 2px rgba(0, 0, 0, 0.3));\n",
              "      fill: #FFFFFF;\n",
              "    }\n",
              "  </style>\n",
              "\n",
              "    <script>\n",
              "      const buttonEl =\n",
              "        document.querySelector('#df-3d52257e-1989-439f-a437-01d5520c414f button.colab-df-convert');\n",
              "      buttonEl.style.display =\n",
              "        google.colab.kernel.accessAllowed ? 'block' : 'none';\n",
              "\n",
              "      async function convertToInteractive(key) {\n",
              "        const element = document.querySelector('#df-3d52257e-1989-439f-a437-01d5520c414f');\n",
              "        const dataTable =\n",
              "          await google.colab.kernel.invokeFunction('convertToInteractive',\n",
              "                                                    [key], {});\n",
              "        if (!dataTable) return;\n",
              "\n",
              "        const docLinkHtml = 'Like what you see? Visit the ' +\n",
              "          '<a target=\"_blank\" href=https://colab.research.google.com/notebooks/data_table.ipynb>data table notebook</a>'\n",
              "          + ' to learn more about interactive tables.';\n",
              "        element.innerHTML = '';\n",
              "        dataTable['output_type'] = 'display_data';\n",
              "        await google.colab.output.renderOutput(dataTable, element);\n",
              "        const docLink = document.createElement('div');\n",
              "        docLink.innerHTML = docLinkHtml;\n",
              "        element.appendChild(docLink);\n",
              "      }\n",
              "    </script>\n",
              "  </div>\n",
              "\n",
              "\n",
              "<div id=\"df-499958ce-1f87-4052-9d49-47b5dad1f2cc\">\n",
              "  <button class=\"colab-df-quickchart\" onclick=\"quickchart('df-499958ce-1f87-4052-9d49-47b5dad1f2cc')\"\n",
              "            title=\"Suggest charts.\"\n",
              "            style=\"display:none;\">\n",
              "\n",
              "<svg xmlns=\"http://www.w3.org/2000/svg\" height=\"24px\"viewBox=\"0 0 24 24\"\n",
              "     width=\"24px\">\n",
              "    <g>\n",
              "        <path d=\"M19 3H5c-1.1 0-2 .9-2 2v14c0 1.1.9 2 2 2h14c1.1 0 2-.9 2-2V5c0-1.1-.9-2-2-2zM9 17H7v-7h2v7zm4 0h-2V7h2v10zm4 0h-2v-4h2v4z\"/>\n",
              "    </g>\n",
              "</svg>\n",
              "  </button>\n",
              "\n",
              "<style>\n",
              "  .colab-df-quickchart {\n",
              "      --bg-color: #E8F0FE;\n",
              "      --fill-color: #1967D2;\n",
              "      --hover-bg-color: #E2EBFA;\n",
              "      --hover-fill-color: #174EA6;\n",
              "      --disabled-fill-color: #AAA;\n",
              "      --disabled-bg-color: #DDD;\n",
              "  }\n",
              "\n",
              "  [theme=dark] .colab-df-quickchart {\n",
              "      --bg-color: #3B4455;\n",
              "      --fill-color: #D2E3FC;\n",
              "      --hover-bg-color: #434B5C;\n",
              "      --hover-fill-color: #FFFFFF;\n",
              "      --disabled-bg-color: #3B4455;\n",
              "      --disabled-fill-color: #666;\n",
              "  }\n",
              "\n",
              "  .colab-df-quickchart {\n",
              "    background-color: var(--bg-color);\n",
              "    border: none;\n",
              "    border-radius: 50%;\n",
              "    cursor: pointer;\n",
              "    display: none;\n",
              "    fill: var(--fill-color);\n",
              "    height: 32px;\n",
              "    padding: 0;\n",
              "    width: 32px;\n",
              "  }\n",
              "\n",
              "  .colab-df-quickchart:hover {\n",
              "    background-color: var(--hover-bg-color);\n",
              "    box-shadow: 0 1px 2px rgba(60, 64, 67, 0.3), 0 1px 3px 1px rgba(60, 64, 67, 0.15);\n",
              "    fill: var(--button-hover-fill-color);\n",
              "  }\n",
              "\n",
              "  .colab-df-quickchart-complete:disabled,\n",
              "  .colab-df-quickchart-complete:disabled:hover {\n",
              "    background-color: var(--disabled-bg-color);\n",
              "    fill: var(--disabled-fill-color);\n",
              "    box-shadow: none;\n",
              "  }\n",
              "\n",
              "  .colab-df-spinner {\n",
              "    border: 2px solid var(--fill-color);\n",
              "    border-color: transparent;\n",
              "    border-bottom-color: var(--fill-color);\n",
              "    animation:\n",
              "      spin 1s steps(1) infinite;\n",
              "  }\n",
              "\n",
              "  @keyframes spin {\n",
              "    0% {\n",
              "      border-color: transparent;\n",
              "      border-bottom-color: var(--fill-color);\n",
              "      border-left-color: var(--fill-color);\n",
              "    }\n",
              "    20% {\n",
              "      border-color: transparent;\n",
              "      border-left-color: var(--fill-color);\n",
              "      border-top-color: var(--fill-color);\n",
              "    }\n",
              "    30% {\n",
              "      border-color: transparent;\n",
              "      border-left-color: var(--fill-color);\n",
              "      border-top-color: var(--fill-color);\n",
              "      border-right-color: var(--fill-color);\n",
              "    }\n",
              "    40% {\n",
              "      border-color: transparent;\n",
              "      border-right-color: var(--fill-color);\n",
              "      border-top-color: var(--fill-color);\n",
              "    }\n",
              "    60% {\n",
              "      border-color: transparent;\n",
              "      border-right-color: var(--fill-color);\n",
              "    }\n",
              "    80% {\n",
              "      border-color: transparent;\n",
              "      border-right-color: var(--fill-color);\n",
              "      border-bottom-color: var(--fill-color);\n",
              "    }\n",
              "    90% {\n",
              "      border-color: transparent;\n",
              "      border-bottom-color: var(--fill-color);\n",
              "    }\n",
              "  }\n",
              "</style>\n",
              "\n",
              "  <script>\n",
              "    async function quickchart(key) {\n",
              "      const quickchartButtonEl =\n",
              "        document.querySelector('#' + key + ' button');\n",
              "      quickchartButtonEl.disabled = true;  // To prevent multiple clicks.\n",
              "      quickchartButtonEl.classList.add('colab-df-spinner');\n",
              "      try {\n",
              "        const charts = await google.colab.kernel.invokeFunction(\n",
              "            'suggestCharts', [key], {});\n",
              "      } catch (error) {\n",
              "        console.error('Error during call to suggestCharts:', error);\n",
              "      }\n",
              "      quickchartButtonEl.classList.remove('colab-df-spinner');\n",
              "      quickchartButtonEl.classList.add('colab-df-quickchart-complete');\n",
              "    }\n",
              "    (() => {\n",
              "      let quickchartButtonEl =\n",
              "        document.querySelector('#df-499958ce-1f87-4052-9d49-47b5dad1f2cc button');\n",
              "      quickchartButtonEl.style.display =\n",
              "        google.colab.kernel.accessAllowed ? 'block' : 'none';\n",
              "    })();\n",
              "  </script>\n",
              "</div>\n",
              "    </div>\n",
              "  </div>\n"
            ]
          },
          "metadata": {},
          "execution_count": 1
        }
      ]
    },
    {
      "cell_type": "code",
      "source": [
        "pd.unique(fish['Species']) #fish는 데이터프레임 타입"
      ],
      "metadata": {
        "id": "IZkYXo2IzQEe",
        "outputId": "63d95a78-78dc-45b2-df7f-3d67af66d1af",
        "colab": {
          "base_uri": "https://localhost:8080/"
        }
      },
      "execution_count": null,
      "outputs": [
        {
          "output_type": "execute_result",
          "data": {
            "text/plain": [
              "array(['Bream', 'Roach', 'Whitefish', 'Parkki', 'Perch', 'Pike', 'Smelt'],\n",
              "      dtype=object)"
            ]
          },
          "metadata": {},
          "execution_count": 2
        }
      ]
    },
    {
      "cell_type": "code",
      "source": [
        "# kn을 활용해 타깃의 species를 확률로 나타내기 위해 나머지 열을 input으로\n",
        "fish_input = fish[['Weight','Length','Diagonal','Height','Width']].to_numpy() #ndarray형식\n",
        "fish_target = fish['Species'].to_numpy() #Species가 2차원 배열이 되지 않게 주의!"
      ],
      "metadata": {
        "id": "S2mpKsmEzqyK"
      },
      "execution_count": null,
      "outputs": []
    },
    {
      "cell_type": "code",
      "source": [
        "#갈라쇼\n",
        "from sklearn.model_selection import train_test_split\n",
        "train_input, test_input, train_target, test_target = train_test_split(fish_input, fish_target)"
      ],
      "metadata": {
        "id": "uW-9_ViKzxs5"
      },
      "execution_count": null,
      "outputs": []
    },
    {
      "cell_type": "code",
      "source": [
        "#전처리 근데 이제 스케일링\n",
        "from sklearn.preprocessing import StandardScaler\n",
        "ss = StandardScaler()\n",
        "ss.fit(train_input)\n",
        "train_scaled = ss.transform(train_input)\n",
        "test_scaled = ss.transform(test_input)"
      ],
      "metadata": {
        "id": "TzZzB9St0D5p"
      },
      "execution_count": null,
      "outputs": []
    },
    {
      "cell_type": "code",
      "source": [
        "#kn\n",
        "from sklearn.neighbors import KNeighborsClassifier\n",
        "kn = KNeighborsClassifier()\n",
        "kn.fit(train_scaled, train_target)\n",
        "kn.score(train_scaled , train_target), kn.score(test_scaled, test_target)"
      ],
      "metadata": {
        "id": "b34Qip5_1ojM",
        "outputId": "2cb88fd5-a938-4f3f-e58c-bc8cd4ec4789",
        "colab": {
          "base_uri": "https://localhost:8080/"
        }
      },
      "execution_count": null,
      "outputs": [
        {
          "output_type": "execute_result",
          "data": {
            "text/plain": [
              "(0.8319327731092437, 0.825)"
            ]
          },
          "metadata": {},
          "execution_count": 6
        }
      ]
    },
    {
      "cell_type": "markdown",
      "source": [
        "> **다중분류**(*multi-class classification*)란 target에 2개 이상의 클래스가 포함된 문제"
      ],
      "metadata": {
        "id": "8eO3yVeh3HGJ"
      }
    },
    {
      "cell_type": "code",
      "source": [
        "#과소적합이지만 일단 넘겨..\n",
        "#sklearn에서는 자동으로 알파벳순으로 바뀜\n",
        "kn.classes_"
      ],
      "metadata": {
        "id": "Qtda4IU82Nia",
        "outputId": "88fff662-723d-454c-9f8c-78422ab0256f",
        "colab": {
          "base_uri": "https://localhost:8080/"
        }
      },
      "execution_count": null,
      "outputs": [
        {
          "output_type": "execute_result",
          "data": {
            "text/plain": [
              "array(['Bream', 'Parkki', 'Perch', 'Pike', 'Roach', 'Smelt', 'Whitefish'],\n",
              "      dtype=object)"
            ]
          },
          "metadata": {},
          "execution_count": 7
        }
      ]
    },
    {
      "cell_type": "code",
      "source": [
        "import numpy as np\n",
        "proba = kn.predict_proba(test_scaled[:10]) #처음 10개의 분류 확률을 araboza\n",
        "print(kn.classes_)\n",
        "print(np.round(proba, decimals=4)) #소수4번째까지\n",
        "print(kn.predict(test_scaled[:10])) #확률이 높은 클래스로 예측함을 볼 수 있음"
      ],
      "metadata": {
        "id": "0Uq7v1wk4bwq",
        "outputId": "a2fd1bae-cad4-4819-822f-4caf2f9f36b0",
        "colab": {
          "base_uri": "https://localhost:8080/"
        }
      },
      "execution_count": null,
      "outputs": [
        {
          "output_type": "stream",
          "name": "stdout",
          "text": [
            "['Bream' 'Parkki' 'Perch' 'Pike' 'Roach' 'Smelt' 'Whitefish']\n",
            "[[1.  0.  0.  0.  0.  0.  0. ]\n",
            " [0.  0.  0.  0.  0.  1.  0. ]\n",
            " [0.  0.  0.4 0.  0.4 0.  0.2]\n",
            " [0.  0.  0.6 0.  0.2 0.  0.2]\n",
            " [1.  0.  0.  0.  0.  0.  0. ]\n",
            " [1.  0.  0.  0.  0.  0.  0. ]\n",
            " [0.  0.4 0.  0.  0.6 0.  0. ]\n",
            " [0.6 0.4 0.  0.  0.  0.  0. ]\n",
            " [0.8 0.2 0.  0.  0.  0.  0. ]\n",
            " [0.  0.  0.  0.  0.  1.  0. ]]\n",
            "['Bream' 'Smelt' 'Perch' 'Perch' 'Bream' 'Bream' 'Roach' 'Bream' 'Bream'\n",
            " 'Smelt']\n"
          ]
        }
      ]
    },
    {
      "cell_type": "code",
      "source": [
        "distances, indexes = kn.kneighbors(test_scaled[1:2]) #1번 인덱스가 왜 저런 확률로 나왔는지 확인해보자\n",
        "train_target[indexes] #1번 인덱스의 이웃\n",
        "# kneighbors()의 입력은 2차원배열, 아웃도 2차원배열"
      ],
      "metadata": {
        "id": "6cMMKcHM49fE",
        "outputId": "f4a46c01-8401-4511-c363-873262bcb085",
        "colab": {
          "base_uri": "https://localhost:8080/"
        }
      },
      "execution_count": null,
      "outputs": [
        {
          "output_type": "execute_result",
          "data": {
            "text/plain": [
              "array([['Smelt', 'Smelt', 'Smelt', 'Smelt', 'Smelt']], dtype=object)"
            ]
          },
          "metadata": {},
          "execution_count": 9
        }
      ]
    },
    {
      "cell_type": "markdown",
      "source": [
        "확률을 추출하기 위해 kn을 사용했지만, k의 개수가 5개라 확률로 표현할 수 있는 범위가 제한적임 따라서 '**로지스틱 회귀**' 쓸 거\n",
        "<br>\n",
        "<br>\n",
        "$ z = a \\times (weight) + b \\times (length) + c \\times (diagonal) + d \\times (height) + e \\times (width) + f $ <br>\n",
        "$ \\phi = {1 \\over 1+e^{-z}}$ : *sigmoid function* <br>\n",
        "선형회귀와 마찬가지로 각 species마다의 파라미터들(a~f)을 학습함, phi값 0.5를 기준으로 긴지 아닌지 판단(0.5일때 sklearn은 아닌거로 판단)"
      ],
      "metadata": {
        "id": "djnL0W4r70xQ"
      }
    },
    {
      "cell_type": "markdown",
      "source": [
        "로지스틱 회귀는 반복을 통해 학습시킴 <br>\n",
        "LogisticRegression클래스의 max_iter매개변수에서 반복값 변경가능(defalut:100회)<br>\n",
        "<br>\n",
        "ridge회귀와 같이 계수의 n제곱을 규제함 (L2규제, C(alpha와 비슷)가 커지면 규제는 작아짐)<br>\n"
      ],
      "metadata": {
        "id": "RPgmBnuVBCM4"
      }
    },
    {
      "cell_type": "code",
      "source": [
        "#이제 로지스틱 다중분류 해보자\n",
        "from sklearn.linear_model import LogisticRegression #리니어 모델이네??\n",
        "lr = LogisticRegression(C=20,max_iter=1000)\n",
        "lr.fit(train_scaled, train_target)\n",
        "lr.score(train_scaled, train_target), lr.score(test_scaled, test_target)"
      ],
      "metadata": {
        "id": "fH3E_cEw7f-Y",
        "outputId": "85d8a08a-5039-43e5-9e2b-a04cc4b8e152",
        "colab": {
          "base_uri": "https://localhost:8080/"
        }
      },
      "execution_count": null,
      "outputs": [
        {
          "output_type": "execute_result",
          "data": {
            "text/plain": [
              "(0.9159663865546218, 0.925)"
            ]
          },
          "metadata": {},
          "execution_count": 10
        }
      ]
    },
    {
      "cell_type": "code",
      "source": [
        "#또 과소적합이지만 일단 넘어가..지금 중요한 건 로지스틱 확률 확인해 보는 것!\n",
        "proba = lr.predict_proba(test_scaled[:10])\n",
        "print(lr.classes_)\n",
        "print(np.round(proba, decimals=3))"
      ],
      "metadata": {
        "id": "B-y7XXm3C2Zm",
        "outputId": "bd7e61e6-35d8-4b8c-d2c4-f693b7e3d7c4",
        "colab": {
          "base_uri": "https://localhost:8080/"
        }
      },
      "execution_count": null,
      "outputs": [
        {
          "output_type": "stream",
          "name": "stdout",
          "text": [
            "['Bream' 'Parkki' 'Perch' 'Pike' 'Roach' 'Smelt' 'Whitefish']\n",
            "[[0.938 0.037 0.    0.    0.015 0.    0.01 ]\n",
            " [0.    0.001 0.033 0.    0.004 0.961 0.   ]\n",
            " [0.007 0.016 0.311 0.012 0.581 0.    0.073]\n",
            " [0.    0.001 0.897 0.007 0.085 0.    0.009]\n",
            " [0.997 0.002 0.    0.    0.    0.    0.001]\n",
            " [0.983 0.013 0.    0.    0.001 0.    0.003]\n",
            " [0.001 0.853 0.005 0.    0.13  0.001 0.01 ]\n",
            " [0.757 0.218 0.    0.    0.018 0.    0.008]\n",
            " [0.898 0.086 0.    0.    0.009 0.    0.007]\n",
            " [0.    0.002 0.063 0.    0.005 0.93  0.   ]]\n"
          ]
        }
      ]
    },
    {
      "cell_type": "code",
      "source": [
        "#(a~e), f shape확인\n",
        "lr.coef_.shape, lr.intercept_.shape # species 7개 마다 파라미터가 존재함을 알 수 있음"
      ],
      "metadata": {
        "id": "AdI4pnldDR-V",
        "outputId": "43199909-6a55-4967-bfe5-103971148ff4",
        "colab": {
          "base_uri": "https://localhost:8080/"
        }
      },
      "execution_count": null,
      "outputs": [
        {
          "output_type": "execute_result",
          "data": {
            "text/plain": [
              "((7, 5), (7,))"
            ]
          },
          "metadata": {},
          "execution_count": 12
        }
      ]
    },
    {
      "cell_type": "markdown",
      "source": [
        "따라서 로지스틱 회귀시 서로다른 파라미터 집합을 분류개수 만큼 만들어 하나씩 대입해 z값을 뽑아냄<br>\n",
        "그런데 확률이니 합이 1이 되어야 함 --> **소프트맥스**\n",
        "> The **softmax** function is a function that turns a vector of K real values into a vector of K real values that sum to 1. *DeepAI*\n",
        "\n",
        "*소프트맥스*<br>\n",
        "$e_{sum} = e^{z1} + e^{z2}+ ... $<br>\n",
        "$s1 = {e^{z1} \\over e_{sum}} ... $<br>\n",
        "proba 출력 = [[s1,s2, ... ]]<br>\n",
        "*sklearn은 자동으로 소프트맥스 계산해 줌.*"
      ],
      "metadata": {
        "id": "kIuVj0hiEZVL"
      }
    },
    {
      "cell_type": "code",
      "source": [
        "#z값 표시하기\n",
        "decision = lr.decision_function(test_scaled[:10])\n",
        "print(np.round(decision,decimals=3))\n",
        "print(type(decision))"
      ],
      "metadata": {
        "id": "vEWVzlk6EM3S",
        "outputId": "fd9cdf3b-f74d-401c-cead-5053e0d726e4",
        "colab": {
          "base_uri": "https://localhost:8080/"
        }
      },
      "execution_count": null,
      "outputs": [
        {
          "output_type": "stream",
          "name": "stdout",
          "text": [
            "[[  7.561   4.333  -4.129  -1.977   3.413 -12.221   3.019]\n",
            " [-11.577   1.258   4.43   -2.215   2.435   7.813  -2.144]\n",
            " [ -1.044  -0.236   2.756  -0.495   3.381  -5.667   1.305]\n",
            " [ -3.1    -1.996   5.327   0.527   2.969  -4.5     0.773]\n",
            " [ 12.073   6.067  -5.631  -2.187   2.116 -17.364   4.927]\n",
            " [ 10.189   5.868  -4.984  -3.187   3.132 -15.442   4.424]\n",
            " [ -1.888   4.904  -0.258  -4.379   3.023  -1.888   0.485]\n",
            " [  7.522   6.277  -5.196  -3.939   3.764 -11.384   2.955]\n",
            " [  7.702   5.354  -4.592  -2.63    3.148 -11.853   2.871]\n",
            " [-12.128   1.578   5.095  -3.107   2.48    7.782  -1.7  ]]\n",
            "<class 'numpy.ndarray'>\n"
          ]
        }
      ]
    },
    {
      "cell_type": "code",
      "source": [
        "#scipy로 소프트맥스 표시하기\n",
        "from scipy.special import softmax\n",
        "proba = softmax(decision, axis=1)\n",
        "print(np.round(proba, decimals=3))"
      ],
      "metadata": {
        "id": "l0Yu0RnIGpp2",
        "outputId": "68708a6c-4f7b-4dec-8df9-2b9116e903c9",
        "colab": {
          "base_uri": "https://localhost:8080/"
        }
      },
      "execution_count": null,
      "outputs": [
        {
          "output_type": "stream",
          "name": "stdout",
          "text": [
            "[[0.938 0.037 0.    0.    0.015 0.    0.01 ]\n",
            " [0.    0.001 0.033 0.    0.004 0.961 0.   ]\n",
            " [0.007 0.016 0.311 0.012 0.581 0.    0.073]\n",
            " [0.    0.001 0.897 0.007 0.085 0.    0.009]\n",
            " [0.997 0.002 0.    0.    0.    0.    0.001]\n",
            " [0.983 0.013 0.    0.    0.001 0.    0.003]\n",
            " [0.001 0.853 0.005 0.    0.13  0.001 0.01 ]\n",
            " [0.757 0.218 0.    0.    0.018 0.    0.008]\n",
            " [0.898 0.086 0.    0.    0.009 0.    0.007]\n",
            " [0.    0.002 0.063 0.    0.005 0.93  0.   ]]\n"
          ]
        }
      ]
    },
    {
      "cell_type": "markdown",
      "source": [
        "확인문제\n",
        "1. 2개보다 많은 클래스가 있는 분류문제를 다중분류라고 함\n",
        "2. 로지스틱 회귀가 이진 분류에서 확률을 출력하기 위해 사용하는 함수는 시그모이드 함수\n",
        "3. decision_function() 메서드의 출력(z)이 0일 때, 시그모이드 함수 값($\\phi$)은 ${1\\over2}$"
      ],
      "metadata": {
        "id": "RZMZSJiKHMFi"
      }
    }
  ]
}