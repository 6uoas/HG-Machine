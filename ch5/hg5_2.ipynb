{
  "nbformat": 4,
  "nbformat_minor": 0,
  "metadata": {
    "colab": {
      "provenance": [],
      "include_colab_link": true
    },
    "kernelspec": {
      "name": "python3",
      "display_name": "Python 3"
    },
    "language_info": {
      "name": "python"
    }
  },
  "cells": [
    {
      "cell_type": "markdown",
      "metadata": {
        "id": "view-in-github",
        "colab_type": "text"
      },
      "source": [
        "<a href=\"https://colab.research.google.com/github/uoahy-6uoas/HG-Machine/blob/main/hg5_2.ipynb\" target=\"_parent\"><img src=\"https://colab.research.google.com/assets/colab-badge.svg\" alt=\"Open In Colab\"/></a>"
      ]
    },
    {
      "cell_type": "markdown",
      "source": [
        "keywords = 검증세트, 교차검증, 그리드서치, 랜덤서치"
      ],
      "metadata": {
        "id": "fMEaDlnjNgrs"
      }
    },
    {
      "cell_type": "markdown",
      "source": [
        "test세트에 맞추다 보면 결국엔 test에만 잘 맞는 모델이 만들어짐.. 따라서 검증세트가 필요<br>\n",
        "<br>\n",
        "**검증세트**<br>\n",
        "> 훈련 세트를 사용해 다양한 하이퍼파라미터로 여러 모델을 훈련시키고 검증 세트에서 최상의 성능을 내는 모델과 하이퍼파라미터를 선택합니다. *텐서플로우블로그*"
      ],
      "metadata": {
        "id": "FpJXILERC6QX"
      }
    },
    {
      "cell_type": "code",
      "source": [
        "import pandas as pd\n",
        "wine = pd.read_csv('https://bit.ly/wine_csv_data')"
      ],
      "metadata": {
        "id": "XscUZC6zMY6C"
      },
      "execution_count": 1,
      "outputs": []
    },
    {
      "cell_type": "code",
      "source": [
        "data = wine[['alcohol','sugar','pH']].to_numpy()\n",
        "target = wine['class'].to_numpy() # ()잊지말자"
      ],
      "metadata": {
        "id": "9Rfw96zxIqmk"
      },
      "execution_count": 2,
      "outputs": []
    },
    {
      "cell_type": "code",
      "source": [
        "import numpy as np\n",
        "import matplotlib.pyplot as plt\n",
        "from sklearn.model_selection import train_test_split\n",
        "from sklearn.preprocessing import StandardScaler\n",
        "ss = StandardScaler()\n",
        "\n",
        "train_input, test_input, train_target, test_target = train_test_split(data, target, test_size=0.2)"
      ],
      "metadata": {
        "id": "wTxvztqRIzgg"
      },
      "execution_count": 3,
      "outputs": []
    },
    {
      "cell_type": "code",
      "source": [
        "#검증세트는 훈련세트에서 따로 뽑아 씀\n",
        "sub_input, val_input, sub_target, val_target = train_test_split(train_input, train_target, test_size=0.2)"
      ],
      "metadata": {
        "id": "sClOyYj3Jbkp"
      },
      "execution_count": 4,
      "outputs": []
    },
    {
      "cell_type": "code",
      "source": [
        "from sklearn.tree import DecisionTreeClassifier\n",
        "dt = DecisionTreeClassifier()\n",
        "dt.fit(sub_input, sub_target)\n",
        "dt.score(sub_input, sub_target), dt.score(test_input,test_target)"
      ],
      "metadata": {
        "colab": {
          "base_uri": "https://localhost:8080/"
        },
        "id": "ZLsTkOlNLUTP",
        "outputId": "4c607835-e323-4e76-e944-f4f5e9a6d754"
      },
      "execution_count": 5,
      "outputs": [
        {
          "output_type": "execute_result",
          "data": {
            "text/plain": [
              "(0.997834977146981, 0.8676923076923077)"
            ]
          },
          "metadata": {},
          "execution_count": 5
        }
      ]
    },
    {
      "cell_type": "markdown",
      "source": [
        "**교차검증**\n",
        "> 데이터를 여러 번 반복해서 나누고 여러 모델을 학습하여 성능을 평가하는 방법 = 검증세트를 여러(k)번 나눠 따로 학습(k-fold)  "
      ],
      "metadata": {
        "id": "xI0T-Y9kL7_9"
      }
    },
    {
      "cell_type": "code",
      "source": [
        "from sklearn.model_selection import cross_validate\n",
        "scores = cross_validate(dt,train_input,train_target)\n",
        "scores #모델 훈련하는 시간, 검증하는 시간, 점수, 기본적으로 5-fold 교차검증"
      ],
      "metadata": {
        "colab": {
          "base_uri": "https://localhost:8080/"
        },
        "id": "HRGgis71Lyzr",
        "outputId": "43d981f4-88e1-4ec8-bb73-1479f23e0581"
      },
      "execution_count": 6,
      "outputs": [
        {
          "output_type": "execute_result",
          "data": {
            "text/plain": [
              "{'fit_time': array([0.02037501, 0.01604128, 0.01105475, 0.01130676, 0.01276922]),\n",
              " 'score_time': array([0.00162268, 0.00164962, 0.00166988, 0.00168276, 0.00173759]),\n",
              " 'test_score': array([0.87307692, 0.85096154, 0.84119346, 0.84889317, 0.86236766])}"
            ]
          },
          "metadata": {},
          "execution_count": 6
        }
      ]
    },
    {
      "cell_type": "code",
      "source": [
        "#교차검증의 최종점수\n",
        "np.mean(scores['test_score'])"
      ],
      "metadata": {
        "colab": {
          "base_uri": "https://localhost:8080/"
        },
        "id": "pOtY1s31Mlxi",
        "outputId": "5a96cf51-9661-475d-a810-886c9d41fce6"
      },
      "execution_count": 7,
      "outputs": [
        {
          "output_type": "execute_result",
          "data": {
            "text/plain": [
              "0.85529854890057"
            ]
          },
          "metadata": {},
          "execution_count": 7
        }
      ]
    },
    {
      "cell_type": "code",
      "source": [
        "#train_test_split으로 섞지 않고 섞는 방법\n",
        "from sklearn.model_selection import StratifiedKFold\n",
        "scores = cross_validate(dt,train_input, train_target, cv=StratifiedKFold())\n",
        "np.mean(scores['test_score'])"
      ],
      "metadata": {
        "colab": {
          "base_uri": "https://localhost:8080/"
        },
        "id": "QzzthiVyNW4x",
        "outputId": "6fbb8695-0f13-4c31-f3c4-aba899ebb10f"
      },
      "execution_count": 8,
      "outputs": [
        {
          "output_type": "execute_result",
          "data": {
            "text/plain": [
              "0.8576088324572444"
            ]
          },
          "metadata": {},
          "execution_count": 8
        }
      ]
    },
    {
      "cell_type": "code",
      "source": [
        "#10-fold-cross-validate\n",
        "splitter = StratifiedKFold(n_splits=10,shuffle=True)\n",
        "scores = cross_validate(dt,train_input, train_target, cv=splitter)\n",
        "np.mean(scores['test_score'])"
      ],
      "metadata": {
        "colab": {
          "base_uri": "https://localhost:8080/"
        },
        "id": "4QKvq1tnPmO8",
        "outputId": "c46ac275-9ad7-4ead-d152-16e1cee306a5"
      },
      "execution_count": 9,
      "outputs": [
        {
          "output_type": "execute_result",
          "data": {
            "text/plain": [
              "0.8666555506150881"
            ]
          },
          "metadata": {},
          "execution_count": 9
        }
      ]
    },
    {
      "cell_type": "markdown",
      "source": [
        "모델파라미터 = 머신러닝 모델이 학습하는 파라미터 vs. 하이퍼파라미터 = 사용자가 지정, 자동으로 하이퍼파라미터 튜닝 : AutoML<br>\n",
        "**그리드 서치**\n",
        "> GridSearchCV 클래스는 하이퍼파라미터 탐색과 교차검증 수행"
      ],
      "metadata": {
        "id": "1kWawSkxRDv8"
      }
    },
    {
      "cell_type": "code",
      "source": [
        "#min_impurity_decrease 의 최적값을 찾아보자\n",
        "from sklearn.model_selection import GridSearchCV\n",
        "params = {'min_impurity_decrease':[0.0001,0.0002,0.0003,0.0004,0.0005]}\n",
        "# min_impurity_decrease : (정보이득*(노드샘플수)/(전체샘플수) <= 0.0005면 더 이상 분할 하지 않음)"
      ],
      "metadata": {
        "id": "3eq0HziGQFbK"
      },
      "execution_count": 10,
      "outputs": []
    },
    {
      "cell_type": "code",
      "source": [
        "#최적의 하이퍼파라미터를 찾아보자\n",
        "gs = GridSearchCV(DecisionTreeClassifier(),params,n_jobs=-1)#n_jobs는 사용할 cpu개수, 기본값=1, -1이면 있는거 다씀\n",
        "gs.fit(train_input, train_target)"
      ],
      "metadata": {
        "colab": {
          "base_uri": "https://localhost:8080/",
          "height": 118
        },
        "id": "PffF1p42SXcH",
        "outputId": "3704ffff-0428-4b0a-deee-6031b8ebbe9a"
      },
      "execution_count": 11,
      "outputs": [
        {
          "output_type": "execute_result",
          "data": {
            "text/plain": [
              "GridSearchCV(estimator=DecisionTreeClassifier(), n_jobs=-1,\n",
              "             param_grid={'min_impurity_decrease': [0.0001, 0.0002, 0.0003,\n",
              "                                                   0.0004, 0.0005]})"
            ],
            "text/html": [
              "<style>#sk-container-id-1 {color: black;background-color: white;}#sk-container-id-1 pre{padding: 0;}#sk-container-id-1 div.sk-toggleable {background-color: white;}#sk-container-id-1 label.sk-toggleable__label {cursor: pointer;display: block;width: 100%;margin-bottom: 0;padding: 0.3em;box-sizing: border-box;text-align: center;}#sk-container-id-1 label.sk-toggleable__label-arrow:before {content: \"▸\";float: left;margin-right: 0.25em;color: #696969;}#sk-container-id-1 label.sk-toggleable__label-arrow:hover:before {color: black;}#sk-container-id-1 div.sk-estimator:hover label.sk-toggleable__label-arrow:before {color: black;}#sk-container-id-1 div.sk-toggleable__content {max-height: 0;max-width: 0;overflow: hidden;text-align: left;background-color: #f0f8ff;}#sk-container-id-1 div.sk-toggleable__content pre {margin: 0.2em;color: black;border-radius: 0.25em;background-color: #f0f8ff;}#sk-container-id-1 input.sk-toggleable__control:checked~div.sk-toggleable__content {max-height: 200px;max-width: 100%;overflow: auto;}#sk-container-id-1 input.sk-toggleable__control:checked~label.sk-toggleable__label-arrow:before {content: \"▾\";}#sk-container-id-1 div.sk-estimator input.sk-toggleable__control:checked~label.sk-toggleable__label {background-color: #d4ebff;}#sk-container-id-1 div.sk-label input.sk-toggleable__control:checked~label.sk-toggleable__label {background-color: #d4ebff;}#sk-container-id-1 input.sk-hidden--visually {border: 0;clip: rect(1px 1px 1px 1px);clip: rect(1px, 1px, 1px, 1px);height: 1px;margin: -1px;overflow: hidden;padding: 0;position: absolute;width: 1px;}#sk-container-id-1 div.sk-estimator {font-family: monospace;background-color: #f0f8ff;border: 1px dotted black;border-radius: 0.25em;box-sizing: border-box;margin-bottom: 0.5em;}#sk-container-id-1 div.sk-estimator:hover {background-color: #d4ebff;}#sk-container-id-1 div.sk-parallel-item::after {content: \"\";width: 100%;border-bottom: 1px solid gray;flex-grow: 1;}#sk-container-id-1 div.sk-label:hover label.sk-toggleable__label {background-color: #d4ebff;}#sk-container-id-1 div.sk-serial::before {content: \"\";position: absolute;border-left: 1px solid gray;box-sizing: border-box;top: 0;bottom: 0;left: 50%;z-index: 0;}#sk-container-id-1 div.sk-serial {display: flex;flex-direction: column;align-items: center;background-color: white;padding-right: 0.2em;padding-left: 0.2em;position: relative;}#sk-container-id-1 div.sk-item {position: relative;z-index: 1;}#sk-container-id-1 div.sk-parallel {display: flex;align-items: stretch;justify-content: center;background-color: white;position: relative;}#sk-container-id-1 div.sk-item::before, #sk-container-id-1 div.sk-parallel-item::before {content: \"\";position: absolute;border-left: 1px solid gray;box-sizing: border-box;top: 0;bottom: 0;left: 50%;z-index: -1;}#sk-container-id-1 div.sk-parallel-item {display: flex;flex-direction: column;z-index: 1;position: relative;background-color: white;}#sk-container-id-1 div.sk-parallel-item:first-child::after {align-self: flex-end;width: 50%;}#sk-container-id-1 div.sk-parallel-item:last-child::after {align-self: flex-start;width: 50%;}#sk-container-id-1 div.sk-parallel-item:only-child::after {width: 0;}#sk-container-id-1 div.sk-dashed-wrapped {border: 1px dashed gray;margin: 0 0.4em 0.5em 0.4em;box-sizing: border-box;padding-bottom: 0.4em;background-color: white;}#sk-container-id-1 div.sk-label label {font-family: monospace;font-weight: bold;display: inline-block;line-height: 1.2em;}#sk-container-id-1 div.sk-label-container {text-align: center;}#sk-container-id-1 div.sk-container {/* jupyter's `normalize.less` sets `[hidden] { display: none; }` but bootstrap.min.css set `[hidden] { display: none !important; }` so we also need the `!important` here to be able to override the default hidden behavior on the sphinx rendered scikit-learn.org. See: https://github.com/scikit-learn/scikit-learn/issues/21755 */display: inline-block !important;position: relative;}#sk-container-id-1 div.sk-text-repr-fallback {display: none;}</style><div id=\"sk-container-id-1\" class=\"sk-top-container\"><div class=\"sk-text-repr-fallback\"><pre>GridSearchCV(estimator=DecisionTreeClassifier(), n_jobs=-1,\n",
              "             param_grid={&#x27;min_impurity_decrease&#x27;: [0.0001, 0.0002, 0.0003,\n",
              "                                                   0.0004, 0.0005]})</pre><b>In a Jupyter environment, please rerun this cell to show the HTML representation or trust the notebook. <br />On GitHub, the HTML representation is unable to render, please try loading this page with nbviewer.org.</b></div><div class=\"sk-container\" hidden><div class=\"sk-item sk-dashed-wrapped\"><div class=\"sk-label-container\"><div class=\"sk-label sk-toggleable\"><input class=\"sk-toggleable__control sk-hidden--visually\" id=\"sk-estimator-id-1\" type=\"checkbox\" ><label for=\"sk-estimator-id-1\" class=\"sk-toggleable__label sk-toggleable__label-arrow\">GridSearchCV</label><div class=\"sk-toggleable__content\"><pre>GridSearchCV(estimator=DecisionTreeClassifier(), n_jobs=-1,\n",
              "             param_grid={&#x27;min_impurity_decrease&#x27;: [0.0001, 0.0002, 0.0003,\n",
              "                                                   0.0004, 0.0005]})</pre></div></div></div><div class=\"sk-parallel\"><div class=\"sk-parallel-item\"><div class=\"sk-item\"><div class=\"sk-label-container\"><div class=\"sk-label sk-toggleable\"><input class=\"sk-toggleable__control sk-hidden--visually\" id=\"sk-estimator-id-2\" type=\"checkbox\" ><label for=\"sk-estimator-id-2\" class=\"sk-toggleable__label sk-toggleable__label-arrow\">estimator: DecisionTreeClassifier</label><div class=\"sk-toggleable__content\"><pre>DecisionTreeClassifier()</pre></div></div></div><div class=\"sk-serial\"><div class=\"sk-item\"><div class=\"sk-estimator sk-toggleable\"><input class=\"sk-toggleable__control sk-hidden--visually\" id=\"sk-estimator-id-3\" type=\"checkbox\" ><label for=\"sk-estimator-id-3\" class=\"sk-toggleable__label sk-toggleable__label-arrow\">DecisionTreeClassifier</label><div class=\"sk-toggleable__content\"><pre>DecisionTreeClassifier()</pre></div></div></div></div></div></div></div></div></div></div>"
            ]
          },
          "metadata": {},
          "execution_count": 11
        }
      ]
    },
    {
      "cell_type": "code",
      "source": [
        "#찾았으면 그 찾은 값으로 전체훈련세트로 모델을 다시 만들어야함\n",
        "#그리드서치는 찾은다음 자동으로 최적 파라미터로 훈련함\n",
        "dt = gs.best_estimator_ #dt에 최적모델(best_estimator_) 저장함 근데 모델은 타입이 뭐지..?\n",
        "type(dt)"
      ],
      "metadata": {
        "colab": {
          "base_uri": "https://localhost:8080/"
        },
        "id": "t_D3dHG6SxwG",
        "outputId": "b92aa2c5-7b71-4f76-b309-3116838b39f3"
      },
      "execution_count": 12,
      "outputs": [
        {
          "output_type": "execute_result",
          "data": {
            "text/plain": [
              "sklearn.tree._classes.DecisionTreeClassifier"
            ]
          },
          "metadata": {},
          "execution_count": 12
        }
      ]
    },
    {
      "cell_type": "code",
      "source": [
        "gs.best_params_ #찾아온 최적 값이 뭔지"
      ],
      "metadata": {
        "colab": {
          "base_uri": "https://localhost:8080/"
        },
        "id": "VDoIU-30Tt7s",
        "outputId": "4e4b5783-b2ca-4e5c-b117-68e34aa7efd2"
      },
      "execution_count": 13,
      "outputs": [
        {
          "output_type": "execute_result",
          "data": {
            "text/plain": [
              "{'min_impurity_decrease': 0.0002}"
            ]
          },
          "metadata": {},
          "execution_count": 13
        }
      ]
    },
    {
      "cell_type": "code",
      "source": [
        "#각 매개변수에서 훈련한 점수 평균값\n",
        "gs.cv_results_['mean_test_score'] #0.0003(gs.best_params_)이 높은 것을 확인"
      ],
      "metadata": {
        "colab": {
          "base_uri": "https://localhost:8080/"
        },
        "id": "RAdh2LauT5Lj",
        "outputId": "6281a192-1cd8-4719-cb65-aa696acab39b"
      },
      "execution_count": 14,
      "outputs": [
        {
          "output_type": "execute_result",
          "data": {
            "text/plain": [
              "array([0.86299511, 0.86953894, 0.86934719, 0.86395758, 0.86472681])"
            ]
          },
          "metadata": {},
          "execution_count": 14
        }
      ]
    },
    {
      "cell_type": "code",
      "source": [
        "#np.argmax\n",
        "best_idx = np.argmax(gs.cv_results_['mean_test_score'])\n",
        "gs.cv_results_['params'][best_idx]"
      ],
      "metadata": {
        "colab": {
          "base_uri": "https://localhost:8080/"
        },
        "id": "BZw0x-EZUW96",
        "outputId": "5c44930f-5005-4043-fa51-d445c187f963"
      },
      "execution_count": 15,
      "outputs": [
        {
          "output_type": "execute_result",
          "data": {
            "text/plain": [
              "{'min_impurity_decrease': 0.0002}"
            ]
          },
          "metadata": {},
          "execution_count": 15
        }
      ]
    },
    {
      "cell_type": "code",
      "source": [
        "#여러 파라미터 실습\n",
        "params = {'min_impurity_decrease':np.arange(0.0001,0.001,0.0001), #range와 달리 float도 가능!\n",
        "          'max_depth':range(5,20,1), #트리 깊이 제한\n",
        "          'min_samples_split':range(2,100,10) # 노드를 나눌 최소 샘플 수\n",
        "          }"
      ],
      "metadata": {
        "id": "reCqw7zSU5Jp"
      },
      "execution_count": 16,
      "outputs": []
    },
    {
      "cell_type": "code",
      "source": [
        "gs = GridSearchCV(DecisionTreeClassifier(),params,n_jobs=-1)\n",
        "gs.fit(train_input, train_target)\n",
        "gs.best_params_"
      ],
      "metadata": {
        "colab": {
          "base_uri": "https://localhost:8080/"
        },
        "id": "4m7AUaleV3iw",
        "outputId": "e6fe6661-a46c-44ca-ea20-757f0ad67754"
      },
      "execution_count": 17,
      "outputs": [
        {
          "output_type": "execute_result",
          "data": {
            "text/plain": [
              "{'max_depth': 14,\n",
              " 'min_impurity_decrease': 0.00030000000000000003,\n",
              " 'min_samples_split': 12}"
            ]
          },
          "metadata": {},
          "execution_count": 17
        }
      ]
    },
    {
      "cell_type": "markdown",
      "source": [
        "**랜덤서치**<br>\n",
        "> 임의의 하이퍼파라미터를 선정하는 과정을 통해 최적의 해를 찾아가는 기법 *heytech_tstory*"
      ],
      "metadata": {
        "id": "ppver4bPWgYA"
      }
    },
    {
      "cell_type": "code",
      "source": [
        "#scipy lib\n",
        "from scipy.stats import uniform, randint #주어진 범위에서 고르게 값(각각 : float,int)을 뽑음"
      ],
      "metadata": {
        "id": "JEJq7IpfWX-e"
      },
      "execution_count": 18,
      "outputs": []
    },
    {
      "cell_type": "code",
      "source": [
        "rgen = randint(0,10)\n",
        "rgen.rvs(10) # pop 10"
      ],
      "metadata": {
        "colab": {
          "base_uri": "https://localhost:8080/"
        },
        "id": "p4PxfpBXW3Zy",
        "outputId": "4711b957-b5b7-44ff-e4e0-cbbe514ea962"
      },
      "execution_count": 19,
      "outputs": [
        {
          "output_type": "execute_result",
          "data": {
            "text/plain": [
              "array([4, 9, 8, 6, 0, 0, 8, 0, 4, 9])"
            ]
          },
          "metadata": {},
          "execution_count": 19
        }
      ]
    },
    {
      "cell_type": "code",
      "source": [
        "np.unique(rgen.rvs(1000), return_counts=True) #카운트함수"
      ],
      "metadata": {
        "colab": {
          "base_uri": "https://localhost:8080/"
        },
        "id": "hs_fZVBXXfpE",
        "outputId": "af033a41-1c45-4a8d-9563-5c13c08b51c1"
      },
      "execution_count": 20,
      "outputs": [
        {
          "output_type": "execute_result",
          "data": {
            "text/plain": [
              "(array([0, 1, 2, 3, 4, 5, 6, 7, 8, 9]),\n",
              " array([114, 108,  93,  93,  74, 112, 103,  91, 107, 105]))"
            ]
          },
          "metadata": {},
          "execution_count": 20
        }
      ]
    },
    {
      "cell_type": "code",
      "source": [
        "ugen = uniform(0,1)\n",
        "ugen.rvs(10)"
      ],
      "metadata": {
        "colab": {
          "base_uri": "https://localhost:8080/"
        },
        "id": "MtF9cqSNXmxb",
        "outputId": "de8d2396-0291-4045-d63e-4689091ebb5a"
      },
      "execution_count": 21,
      "outputs": [
        {
          "output_type": "execute_result",
          "data": {
            "text/plain": [
              "array([0.03717279, 0.44365756, 0.46241459, 0.59318496, 0.2794842 ,\n",
              "       0.76344148, 0.681214  , 0.27455445, 0.97320089, 0.95651615])"
            ]
          },
          "metadata": {},
          "execution_count": 21
        }
      ]
    },
    {
      "cell_type": "code",
      "source": [
        "#랜덤서치\n",
        "params = {'min_impurity_decrease' : uniform(0,1),\n",
        "          'max_depth' : randint(20,50),\n",
        "          'min_samples_split' : randint(2,25),\n",
        "          'min_samples_leaf':randint(1,25) #min_samples_leaf : 말단(뿌리)노드가 되기 위한 최소 샘플 개수\n",
        "          }\n",
        "\n",
        "\n",
        "from sklearn.model_selection import RandomizedSearchCV\n",
        "gs = RandomizedSearchCV(DecisionTreeClassifier(), params,n_iter=100, n_jobs=-1)\n",
        "gs.fit(train_input, train_target)\n",
        "gs.best_params_, np.max(gs.cv_results_['mean_test_score'])"
      ],
      "metadata": {
        "colab": {
          "base_uri": "https://localhost:8080/"
        },
        "id": "OGeOYiTJXyw7",
        "outputId": "0587e017-e6cc-4857-8eeb-1e02e570b742"
      },
      "execution_count": 22,
      "outputs": [
        {
          "output_type": "execute_result",
          "data": {
            "text/plain": [
              "({'max_depth': 48,\n",
              "  'min_impurity_decrease': 0.00958362020839909,\n",
              "  'min_samples_leaf': 13,\n",
              "  'min_samples_split': 6},\n",
              " 0.8451029096024284)"
            ]
          },
          "metadata": {},
          "execution_count": 22
        }
      ]
    },
    {
      "cell_type": "code",
      "source": [
        "dt = gs.best_estimator_\n",
        "dt.score(test_input,test_target)\n",
        "#얘는 아니지만 일반적으로 검증점수보다 테스트점수가 낮음"
      ],
      "metadata": {
        "colab": {
          "base_uri": "https://localhost:8080/"
        },
        "id": "XcM-YrYVYazL",
        "outputId": "198ee8d1-f150-412b-de82-0b2c64e02902"
      },
      "execution_count": 23,
      "outputs": [
        {
          "output_type": "execute_result",
          "data": {
            "text/plain": [
              "0.8453846153846154"
            ]
          },
          "metadata": {},
          "execution_count": 23
        }
      ]
    },
    {
      "cell_type": "markdown",
      "source": [
        "* 확인문제\n",
        "1. 훈련세트를 여러 개의 폴드로 나누고 폴드 1개는 평가용도로, 나머지 폴드는 훈련용으로 사용하는데, <br>그다음 모든 폴드를 평가용도로 사용하게끔 폴드 개수만큼 이 과정을 반복하는 평가방법은 교차검증 이라고 한다.\n",
        "2. 교차검증을 수행하지 않는 함수느 클래스는 train_test_split\n",
        "3. 마지막 RandomizedSearchCV예제에서 splitter='random'변수를 추가하고 훈련해보자, splitter기본 값인 best와 차이점은?"
      ],
      "metadata": {
        "id": "a9DjM8Jib3pf"
      }
    },
    {
      "cell_type": "code",
      "source": [
        "import time\n",
        "i = time.time()\n",
        "gs = RandomizedSearchCV(DecisionTreeClassifier(splitter='random'), params,n_iter=100, n_jobs=-1)\n",
        "gs.fit(train_input, train_target)\n",
        "print(gs.best_params_, np.max(gs.cv_results_['mean_test_score']))\n",
        "#random이면 무작위로 노드 분할하고 가장 좋은 것을 고름\n",
        "f = time.time()\n",
        "print(f-i)"
      ],
      "metadata": {
        "colab": {
          "base_uri": "https://localhost:8080/"
        },
        "id": "Ri-vGYlZcm2C",
        "outputId": "96c5bb3d-d4f6-499d-9e15-20b4ab850e4b"
      },
      "execution_count": 24,
      "outputs": [
        {
          "output_type": "stream",
          "name": "stdout",
          "text": [
            "{'max_depth': 49, 'min_impurity_decrease': 0.02763621295232499, 'min_samples_leaf': 19, 'min_samples_split': 19} 0.770831420744799\n",
            "1.0603928565979004\n"
          ]
        }
      ]
    },
    {
      "cell_type": "code",
      "source": [
        "i = time.time()\n",
        "gs = RandomizedSearchCV(DecisionTreeClassifier(splitter='best'), params,n_iter=100, n_jobs=-1)\n",
        "gs.fit(train_input, train_target)\n",
        "print(gs.best_params_, np.max(gs.cv_results_['mean_test_score']))\n",
        "f = time.time()\n",
        "print(f-i) #차이점은 시간이 적게 걸리지만 점수가 낮다?"
      ],
      "metadata": {
        "colab": {
          "base_uri": "https://localhost:8080/"
        },
        "id": "xgP3N4KhczUa",
        "outputId": "3cbb7f32-c6b8-471d-ef3d-77c3a94870e3"
      },
      "execution_count": 25,
      "outputs": [
        {
          "output_type": "stream",
          "name": "stdout",
          "text": [
            "{'max_depth': 20, 'min_impurity_decrease': 0.0011639787396302559, 'min_samples_leaf': 9, 'min_samples_split': 12} 0.8579914118605168\n",
            "1.2958781719207764\n"
          ]
        }
      ]
    }
  ]
}
