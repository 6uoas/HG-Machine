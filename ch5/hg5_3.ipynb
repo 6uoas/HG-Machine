{
  "nbformat": 4,
  "nbformat_minor": 0,
  "metadata": {
    "colab": {
      "provenance": [],
      "include_colab_link": true
    },
    "kernelspec": {
      "name": "python3",
      "display_name": "Python 3"
    },
    "language_info": {
      "name": "python"
    }
  },
  "cells": [
    {
      "cell_type": "markdown",
      "metadata": {
        "id": "view-in-github",
        "colab_type": "text"
      },
      "source": [
        "<a href=\"https://colab.research.google.com/github/uoahy-6uoas/HG-Machine/blob/main/hg5_3.ipynb\" target=\"_parent\"><img src=\"https://colab.research.google.com/assets/colab-badge.svg\" alt=\"Open In Colab\"/></a>"
      ]
    },
    {
      "cell_type": "markdown",
      "source": [
        "keywords = 앙상블 학습, 랜덤포레스트, 엑스트라트리, 그레디언트부스팅"
      ],
      "metadata": {
        "id": "fMEaDlnjNgrs"
      }
    },
    {
      "cell_type": "markdown",
      "source": [
        "**앙상블학습**\n",
        ">  앙상블 학습(Ensemble Learning)은 여러 개의 분류기를 생성하고, 그 예측을 결합함으로써 보다 정확한 예측을 도출하는 기법을 말합니다. 강력한 하나의 모델을 사용하는대신 보다 약한 모델 여러개를 조합하여 더 정확한 예측에 도움을 주는 방식입니다. *DINNOPARTNERS*\n",
        "\n",
        "**랜덤포레스트**\n",
        "> 앙상블학습의 대표주자, 하나의 결과에 도달하기 위해 여러 의사결정 트리의 출력을 결합함 *IBM*"
      ],
      "metadata": {
        "id": "0wmp30o3gyB0"
      }
    },
    {
      "cell_type": "markdown",
      "source": [
        "부트스트랩 샘플 = 훈련샘플에서 중복을 허락하여 n개 뽑아 훈련시키기를 여러번 반복"
      ],
      "metadata": {
        "id": "9Rxc3PmNtLPU"
      }
    },
    {
      "cell_type": "code",
      "source": [
        "import numpy as np\n",
        "import pandas as pd\n",
        "from sklearn.model_selection import train_test_split\n",
        "\n",
        "wine = pd.read_csv('https://bit.ly/wine_csv_data')\n",
        "data = wine[['alcohol', 'sugar', 'pH']].to_numpy()\n",
        "target = wine['class'].to_numpy()\n",
        "\n",
        "train_input, test_input, train_target, test_target = train_test_split(data, target, test_size=0.2, random_state=42)"
      ],
      "metadata": {
        "id": "486zWIV8eazu"
      },
      "execution_count": 1,
      "outputs": []
    },
    {
      "cell_type": "code",
      "source": [
        "#교차검증\n",
        "from sklearn.model_selection import cross_validate\n",
        "from sklearn.ensemble import RandomForestClassifier\n",
        "rf = RandomForestClassifier(n_jobs=-1)"
      ],
      "metadata": {
        "id": "zwWuh-26i2ju"
      },
      "execution_count": 2,
      "outputs": []
    },
    {
      "cell_type": "code",
      "source": [
        "scores = cross_validate(rf, train_input, train_target, return_train_score=True,n_jobs=-1)\n",
        "np.mean(scores['train_score']) , np.mean(scores['test_score'])"
      ],
      "metadata": {
        "colab": {
          "base_uri": "https://localhost:8080/"
        },
        "id": "vbsJnrcNjQDl",
        "outputId": "8702d672-62c8-4d5c-f293-9688fab66d33"
      },
      "execution_count": 3,
      "outputs": [
        {
          "output_type": "execute_result",
          "data": {
            "text/plain": [
              "(0.9973541849413872, 0.8914794180795143)"
            ]
          },
          "metadata": {},
          "execution_count": 3
        }
      ]
    },
    {
      "cell_type": "code",
      "source": [
        "#특성중요도\n",
        "rf.fit(train_input,train_target)\n",
        "rf.feature_importances_\n",
        "#sugar importances decreased\n",
        "#하나의 특성에 집중되지 않아 과대적합을 줄일 수 있는 것이 장점."
      ],
      "metadata": {
        "colab": {
          "base_uri": "https://localhost:8080/"
        },
        "id": "WXCL5lG9jnjN",
        "outputId": "eebad483-cc40-497a-cad3-70b08d678589"
      },
      "execution_count": 4,
      "outputs": [
        {
          "output_type": "execute_result",
          "data": {
            "text/plain": [
              "array([0.23645331, 0.49588573, 0.26766095])"
            ]
          },
          "metadata": {},
          "execution_count": 4
        }
      ]
    },
    {
      "cell_type": "code",
      "source": [
        "#rf는 자체적으로 모델을 평가할 수 있음, oob는 부트스트랩 샘플에 포함되지 않는 샘플들 = 훈련 안시킨 샘플\n",
        "rf = RandomForestClassifier(oob_score=True,n_jobs=-1)\n",
        "rf.fit(train_input, train_target)\n",
        "rf.oob_score_ #각 결정트리의 oob점수를 평균하여 출력"
      ],
      "metadata": {
        "colab": {
          "base_uri": "https://localhost:8080/"
        },
        "id": "J45g-fbIs1P0",
        "outputId": "40806b79-b07b-487a-ed23-52888aefe1da"
      },
      "execution_count": 5,
      "outputs": [
        {
          "output_type": "execute_result",
          "data": {
            "text/plain": [
              "0.8995574369828747"
            ]
          },
          "metadata": {},
          "execution_count": 5
        }
      ]
    },
    {
      "cell_type": "markdown",
      "source": [
        "**엑스트라트리**\n",
        ">  엑스트라 트리는 포레스트 트리의 각 후보 특성을 무작위로 분할하는 식으로 무작위성을 증가 시킵니다. *텐서플로우블로그*\n",
        "\n",
        "splitter = 'random'인 경우"
      ],
      "metadata": {
        "id": "LF081ru2uCVM"
      }
    },
    {
      "cell_type": "code",
      "source": [
        "from sklearn.ensemble import ExtraTreesClassifier\n",
        "et = ExtraTreesClassifier(n_jobs=-1)\n",
        "scores = cross_validate(et, train_input, train_target, return_train_score=True,n_jobs=-1)\n",
        "np.mean(scores['train_score']), np.mean(scores['test_score'])\n",
        "# 일단 무작위로 분할하기 때문에 속도가 빠름."
      ],
      "metadata": {
        "colab": {
          "base_uri": "https://localhost:8080/"
        },
        "id": "V3DHEOQ8tkiy",
        "outputId": "bea514e5-1ba0-46c5-e60a-124c117c25dc"
      },
      "execution_count": 6,
      "outputs": [
        {
          "output_type": "execute_result",
          "data": {
            "text/plain": [
              "(0.9974503966084433, 0.8882081513289405)"
            ]
          },
          "metadata": {},
          "execution_count": 6
        }
      ]
    },
    {
      "cell_type": "code",
      "source": [
        "et.fit(train_input,train_target)\n",
        "et.feature_importances_\n",
        "#역시 당도가 낮아진 모습"
      ],
      "metadata": {
        "colab": {
          "base_uri": "https://localhost:8080/"
        },
        "id": "JBi8LDcZuuu3",
        "outputId": "ea64997d-3895-47db-c131-3f568c7846a3"
      },
      "execution_count": 7,
      "outputs": [
        {
          "output_type": "execute_result",
          "data": {
            "text/plain": [
              "array([0.18138546, 0.53225678, 0.28635776])"
            ]
          },
          "metadata": {},
          "execution_count": 7
        }
      ]
    },
    {
      "cell_type": "markdown",
      "source": [
        "**그레디언트 부스팅**\n",
        "> depth가 얕은 결정트리를 사용하여 이진트리의 오차를 보완하는 방식으로 앙상블 *SAS*<br>\n",
        "회귀에는 평균제곱오차함수, 분류에는 로지스틱손실함수 사용"
      ],
      "metadata": {
        "id": "uNtPCpDqvHyC"
      }
    },
    {
      "cell_type": "code",
      "source": [
        "from sklearn.ensemble import GradientBoostingClassifier\n",
        "gb = GradientBoostingClassifier()\n",
        "scores = cross_validate(gb,train_input,train_target,return_train_score=True,n_jobs=-1)\n",
        "np.mean(scores['train_score']), np.mean(scores['test_score'])\n",
        "#깊이가 얖아서 과대적합이 일어나지 않는 모습"
      ],
      "metadata": {
        "colab": {
          "base_uri": "https://localhost:8080/"
        },
        "id": "9d_wCYepvCPe",
        "outputId": "860756e8-ffda-4fee-8d5f-4309603c05a6"
      },
      "execution_count": 8,
      "outputs": [
        {
          "output_type": "execute_result",
          "data": {
            "text/plain": [
              "(0.8881086892152563, 0.8720430147331015)"
            ]
          },
          "metadata": {},
          "execution_count": 8
        }
      ]
    },
    {
      "cell_type": "code",
      "source": [
        "#학습률(경사하강법의 보폭)을 늘려보자\n",
        "gb = GradientBoostingClassifier(n_estimators=500,learning_rate=0.2)\n",
        "scores = cross_validate(gb,train_input,train_target,return_train_score=True,n_jobs=-1)\n",
        "np.mean(scores['train_score']), np.mean(scores['test_score'])"
      ],
      "metadata": {
        "colab": {
          "base_uri": "https://localhost:8080/"
        },
        "id": "db-QSn45wK0u",
        "outputId": "1b4846cc-222d-49c6-b079-83925535d35c"
      },
      "execution_count": 9,
      "outputs": [
        {
          "output_type": "execute_result",
          "data": {
            "text/plain": [
              "(0.9464595437171814, 0.8780082549788999)"
            ]
          },
          "metadata": {},
          "execution_count": 9
        }
      ]
    },
    {
      "cell_type": "code",
      "source": [
        "gb.fit(train_input, train_target)\n",
        "gb.feature_importances_"
      ],
      "metadata": {
        "colab": {
          "base_uri": "https://localhost:8080/"
        },
        "id": "VoARww6RxA2K",
        "outputId": "af8a6e0d-ac2f-4365-e2d5-c494a8afab89"
      },
      "execution_count": 10,
      "outputs": [
        {
          "output_type": "execute_result",
          "data": {
            "text/plain": [
              "array([0.15833382, 0.68009223, 0.16157395])"
            ]
          },
          "metadata": {},
          "execution_count": 10
        }
      ]
    },
    {
      "cell_type": "code",
      "source": [
        "#히스토그램 기반 그레디언트 부스팅 : 설명을 들어도 와닿지 않기 시작함.. 수식으로 나중에 공부하자\n",
        "from sklearn.ensemble import HistGradientBoostingClassifier\n",
        "hgb = HistGradientBoostingClassifier()\n",
        "scores = cross_validate(hgb,train_input,train_target,return_train_score=True)\n",
        "np.mean(scores['train_score']), np.mean(scores['test_score'])"
      ],
      "metadata": {
        "colab": {
          "base_uri": "https://localhost:8080/"
        },
        "id": "viBmBFBpxLE7",
        "outputId": "915b2d3b-1202-486a-a410-4a97988cde41"
      },
      "execution_count": 11,
      "outputs": [
        {
          "output_type": "execute_result",
          "data": {
            "text/plain": [
              "(0.9321723946453317, 0.8801241948619236)"
            ]
          },
          "metadata": {},
          "execution_count": 11
        }
      ]
    },
    {
      "cell_type": "code",
      "source": [
        "#feature_importances_\n",
        "from sklearn.inspection import permutation_importance\n",
        "\n",
        "hgb.fit(train_input,train_target)\n",
        "result = permutation_importance(hgb,train_input,train_target,n_repeats=10,n_jobs=-1)\n",
        "result.importances_mean #[특성중요도, 평균, 표준편차]"
      ],
      "metadata": {
        "colab": {
          "base_uri": "https://localhost:8080/"
        },
        "id": "ilmgil00yljQ",
        "outputId": "30cca2dc-3cf0-46c8-fe58-6d56641dd815"
      },
      "execution_count": 12,
      "outputs": [
        {
          "output_type": "execute_result",
          "data": {
            "text/plain": [
              "array([0.08984029, 0.23756013, 0.07994997])"
            ]
          },
          "metadata": {},
          "execution_count": 12
        }
      ]
    },
    {
      "cell_type": "code",
      "source": [
        "hgb.score(test_input,test_target)"
      ],
      "metadata": {
        "colab": {
          "base_uri": "https://localhost:8080/"
        },
        "id": "1qz4W033zVRW",
        "outputId": "bb909b6e-c3d4-4b21-fbe2-d1f79fccbff0"
      },
      "execution_count": 13,
      "outputs": [
        {
          "output_type": "execute_result",
          "data": {
            "text/plain": [
              "0.8723076923076923"
            ]
          },
          "metadata": {},
          "execution_count": 13
        }
      ]
    },
    {
      "cell_type": "code",
      "source": [
        "#XGBoost\n",
        "from xgboost import XGBClassifier\n",
        "xgb = XGBClassifier()\n",
        "scores = cross_validate(xgb,train_input,train_target,return_train_score=True)\n",
        "np.mean(scores['train_score']), np.mean(scores['test_score'])"
      ],
      "metadata": {
        "colab": {
          "base_uri": "https://localhost:8080/"
        },
        "id": "xZP6wNfezh0m",
        "outputId": "b440eb99-17e1-434a-835b-cbe6559b2e26"
      },
      "execution_count": 14,
      "outputs": [
        {
          "output_type": "execute_result",
          "data": {
            "text/plain": [
              "(0.9558401176154364, 0.8774313319019769)"
            ]
          },
          "metadata": {},
          "execution_count": 14
        }
      ]
    },
    {
      "cell_type": "code",
      "source": [
        "#LightGBM\n",
        "from lightgbm import LGBMClassifier\n",
        "lgb = LGBMClassifier()\n",
        "scores = cross_validate(lgb,train_input,train_target,return_train_score=True,n_jobs=-1)\n",
        "np.mean(scores['train_score']), np.mean(scores['test_score'])"
      ],
      "metadata": {
        "colab": {
          "base_uri": "https://localhost:8080/"
        },
        "id": "bjr56r4_z6hN",
        "outputId": "ce248156-60f8-489b-93be-215527adc36a"
      },
      "execution_count": 15,
      "outputs": [
        {
          "output_type": "execute_result",
          "data": {
            "text/plain": [
              "(0.935828414851749, 0.8801251203079884)"
            ]
          },
          "metadata": {},
          "execution_count": 15
        }
      ]
    },
    {
      "cell_type": "markdown",
      "source": [
        "* 확인문제\n",
        "1. 여러 개의 모델을 훈련시키고 각 모델의 예측을 취합하여 최종 결과를 만드는 학습 방식은 앙상블학습\n",
        "2. 비정형 데이터에 속하는 것은 이미지 데이터\n",
        "3. 기본적으로 부트스트랩 샘플을 사용하는 알고리즘은 랜덤 포레스트, 엑스트라트리는 기본적으로 bootstrap=False임\n",
        "\n",
        "ch5 fin...."
      ],
      "metadata": {
        "id": "A4VgU72X0PtH"
      }
    }
  ]
}
