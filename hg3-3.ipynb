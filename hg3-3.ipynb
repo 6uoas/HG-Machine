{
  "nbformat": 4,
  "nbformat_minor": 0,
  "metadata": {
    "colab": {
      "provenance": [],
      "authorship_tag": "ABX9TyPdo3seTKyon6LMcRtac9++",
      "include_colab_link": true
    },
    "kernelspec": {
      "name": "python3",
      "display_name": "Python 3"
    },
    "language_info": {
      "name": "python"
    }
  },
  "cells": [
    {
      "cell_type": "markdown",
      "metadata": {
        "id": "view-in-github",
        "colab_type": "text"
      },
      "source": [
        "<a href=\"https://colab.research.google.com/github/uoahy-6uoas/HG-Machine/blob/main/hg3-3.ipynb\" target=\"_parent\"><img src=\"https://colab.research.google.com/assets/colab-badge.svg\" alt=\"Open In Colab\"/></a>"
      ]
    },
    {
      "cell_type": "markdown",
      "source": [
        "**특성공학과 규제**\n",
        "> 회귀당 하나의 종속 변수만 있을 수 있지만 독립 변수는 여러 개가 있을 수 있습니다. 이를 일반적으로 **다중 회귀** ~~다항회귀 아님~~라고 합니다. _TIBCO_\n",
        "\n",
        "> **특성공학**은 데이터의 특성을 다루는 기술 [ex)농어의길이*두께-->새로운 특성]"
      ],
      "metadata": {
        "id": "eKI2PQOgo7I2"
      }
    },
    {
      "cell_type": "code",
      "source": [
        "import pandas as pd\n",
        "df = pd.read_csv('https://bit.ly/perch_csv_data')\n",
        "perch_full = df.to_numpy()"
      ],
      "metadata": {
        "id": "5Qstc5-SGVnX"
      },
      "execution_count": 1,
      "outputs": []
    },
    {
      "cell_type": "code",
      "source": [
        "import numpy as np\n",
        "perch_weight = np.array(\n",
        "    [5.9, 32.0, 40.0, 51.5, 70.0, 100.0, 78.0, 80.0, 85.0, 85.0,\n",
        "     110.0, 115.0, 125.0, 130.0, 120.0, 120.0, 130.0, 135.0, 110.0,\n",
        "     130.0, 150.0, 145.0, 150.0, 170.0, 225.0, 145.0, 188.0, 180.0,\n",
        "     197.0, 218.0, 300.0, 260.0, 265.0, 250.0, 250.0, 300.0, 320.0,\n",
        "     514.0, 556.0, 840.0, 685.0, 700.0, 700.0, 690.0, 900.0, 650.0,\n",
        "     820.0, 850.0, 900.0, 1015.0, 820.0, 1100.0, 1000.0, 1100.0,\n",
        "     1000.0, 1000.0]\n",
        "     )"
      ],
      "metadata": {
        "id": "BeaZOJhxV2Vt"
      },
      "execution_count": 2,
      "outputs": []
    },
    {
      "cell_type": "code",
      "source": [
        "from sklearn.model_selection import train_test_split\n",
        "train_input, test_input, train_target, test_target = train_test_split(perch_full,perch_weight)"
      ],
      "metadata": {
        "id": "Ux4hjP5TWAxT"
      },
      "execution_count": 3,
      "outputs": []
    },
    {
      "cell_type": "code",
      "source": [
        "# transformer of sklearn = 특성을 만들거나 전처리하기 위함\n",
        "from sklearn.preprocessing import PolynomialFeatures\n",
        "poly = PolynomialFeatures()\n",
        "poly.fit([[2,3]])\n",
        "poly.transform([[2,3]])"
      ],
      "metadata": {
        "colab": {
          "base_uri": "https://localhost:8080/"
        },
        "id": "q-hlANeLWQNC",
        "outputId": "a6034a83-f24a-4a89-f586-86741311bbb5"
      },
      "execution_count": 4,
      "outputs": [
        {
          "output_type": "execute_result",
          "data": {
            "text/plain": [
              "array([[1., 2., 3., 4., 6., 9.]])"
            ]
          },
          "metadata": {},
          "execution_count": 4
        }
      ]
    },
    {
      "cell_type": "markdown",
      "source": [
        "**특성공학**\n",
        "[2,3]은 2개의 특성을 가진 것,<br>\n",
        "polynomial_feature은 각 특성을 제곱한 값과 절편(=제곱하지 않는 값)을 반환<br>\n",
        "절편을 특성으로 안쓰려면(이미 sklearn linear model이 절편을 제공하니) include_bias=False 사용하면 됨"
      ],
      "metadata": {
        "id": "_lw2kxPSW_bU"
      }
    },
    {
      "cell_type": "code",
      "source": [
        "#이걸 train셋에 적용해 보자\n",
        "poly = PolynomialFeatures(include_bias=False) #PolynomialFeatures(degree=N) N값으로 제곱값 조정할 수 있음\n",
        "poly.fit(train_input) #train_input = (n,3)\n",
        "train_poly = poly.transform(train_input)\n",
        "test_poly = poly.transform(test_input) #fit은 훈련세트를 기준으로 변환 해야함.. 이유는 어디 써두신거지.\n",
        "poly.get_feature_names_out() #어떤 특성으로 변했는지 확인"
      ],
      "metadata": {
        "colab": {
          "base_uri": "https://localhost:8080/"
        },
        "id": "mX-K7IJYWwBh",
        "outputId": "3a873a4d-94c7-431a-e8e9-eb1f5c7d84bf"
      },
      "execution_count": 5,
      "outputs": [
        {
          "output_type": "execute_result",
          "data": {
            "text/plain": [
              "array(['x0', 'x1', 'x2', 'x0^2', 'x0 x1', 'x0 x2', 'x1^2', 'x1 x2',\n",
              "       'x2^2'], dtype=object)"
            ]
          },
          "metadata": {},
          "execution_count": 5
        }
      ]
    },
    {
      "cell_type": "code",
      "source": [
        "#훈련시작\n",
        "from sklearn.linear_model import LinearRegression\n",
        "lr = LinearRegression()\n",
        "lr.fit(train_poly, train_target)\n",
        "print(f\"train_score : {lr.score(train_poly,train_target)}\")\n",
        "print(f\"test_score : {lr.score(test_poly,test_target)}\")"
      ],
      "metadata": {
        "colab": {
          "base_uri": "https://localhost:8080/"
        },
        "id": "1hhMxgxbZQg6",
        "outputId": "0ef4c1cc-decc-4506-b218-7ace4898ba83"
      },
      "execution_count": 6,
      "outputs": [
        {
          "output_type": "stream",
          "name": "stdout",
          "text": [
            "train_score : 0.9895251845550863\n",
            "test_score : 0.9829533900270728\n"
          ]
        }
      ]
    },
    {
      "cell_type": "markdown",
      "source": [
        "degree의 N값이 커지면 과대적합 될 가능성이 매우 큼 --> 적절한 N값으로 **규제** 필요"
      ],
      "metadata": {
        "id": "5d-7jVyFabEq"
      }
    },
    {
      "cell_type": "code",
      "source": [
        "#안정된 데이터를 위해 정규화 과정을 거치자\n",
        "from sklearn.preprocessing import StandardScaler\n",
        "ss = StandardScaler()\n",
        "ss.fit(train_poly)\n",
        "train_scaled = ss.transform(train_poly)\n",
        "test_scaled = ss.transform(test_poly)"
      ],
      "metadata": {
        "id": "AiuLDMc2ZtBI"
      },
      "execution_count": 7,
      "outputs": []
    },
    {
      "cell_type": "code",
      "source": [
        "#릿지회귀\n",
        "from sklearn.linear_model import Ridge\n",
        "ridge = Ridge() #Ridge(alpha=N) alpha는 얼마나 규제할 것인지의 정도를 결정함, 클수록 규제더함 = 과소적합 유도\n",
        "ridge.fit(train_scaled, train_target)\n",
        "print(ridge.score(train_scaled, train_target),\" : train score\")\n",
        "print(ridge.score(test_scaled, test_target),\" : test score\")"
      ],
      "metadata": {
        "colab": {
          "base_uri": "https://localhost:8080/"
        },
        "id": "mQ61s8Zofw0X",
        "outputId": "0cbeb7ce-692b-44c6-eb30-0c66cd616bf6"
      },
      "execution_count": 8,
      "outputs": [
        {
          "output_type": "stream",
          "name": "stdout",
          "text": [
            "0.9852688482523752  : train score\n",
            "0.9846971233604201  : test score\n"
          ]
        }
      ]
    },
    {
      "cell_type": "code",
      "source": [
        "#라쏘회귀\n",
        "from sklearn.linear_model import Lasso\n",
        "lasso = Lasso()\n",
        "lasso.fit(train_scaled, train_target)\n",
        "print(lasso.score(train_scaled, train_target), \" : train score\")\n",
        "print(lasso.score(test_scaled, test_target), \" : test score\")"
      ],
      "metadata": {
        "colab": {
          "base_uri": "https://localhost:8080/"
        },
        "id": "No10VDb_gjDd",
        "outputId": "f1b21453-5cee-4f03-d62f-58988dbfe9eb"
      },
      "execution_count": 10,
      "outputs": [
        {
          "output_type": "stream",
          "name": "stdout",
          "text": [
            "0.9867404664620958  : train score\n",
            "0.9842305279356575  : test score\n"
          ]
        },
        {
          "output_type": "stream",
          "name": "stderr",
          "text": [
            "/usr/local/lib/python3.10/dist-packages/sklearn/linear_model/_coordinate_descent.py:631: ConvergenceWarning: Objective did not converge. You might want to increase the number of iterations, check the scale of the features or consider increasing regularisation. Duality gap: 6.915e+02, tolerance: 4.982e+02\n",
            "  model = cd_fast.enet_coordinate_descent(\n"
          ]
        }
      ]
    },
    {
      "cell_type": "markdown",
      "source": [
        "**확인문제**\n",
        "1. a,b,c특성으로 이루어진 훈련세트를 PolynomialFeatures(degree=3)으로 변환했다. 데이터에 포함되는 특성은 = 1,a,a^2,a^3,a*b....\n",
        "2. 특성을 표준화하는 클래스 = StandardScaler\n",
        "3. 과대적합과 과소적합을 올바르게 표현한 것은 <br>\n",
        "과대적합 : 테스트점수가 낮음, 과소적합 : 테스트점수가 높음 (일반적)"
      ],
      "metadata": {
        "id": "mbfDhaVSi1yC"
      }
    }
  ]
}